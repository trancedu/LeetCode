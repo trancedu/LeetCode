{
 "cells": [
  {
   "cell_type": "code",
   "execution_count": 4,
   "metadata": {},
   "outputs": [],
   "source": [
    "from collections import *\n",
    "from typing import List"
   ]
  },
  {
   "attachments": {},
   "cell_type": "markdown",
   "metadata": {},
   "source": [
    "# DFS"
   ]
  },
  {
   "attachments": {},
   "cell_type": "markdown",
   "metadata": {},
   "source": [
    "DFS的代码要比BFS简单一些，只要传坐标就可以，找出下一个坐标，然后要有visited\n",
    "\n",
    "对于visited更改，总是先更改，这样的话递归的就会少一些\n",
    "\n",
    "1. 先排序，再找到满足条件的开始\n",
    "2. 更新开始\n",
    "3. 排序，for循环，传参index，可以是数字，也可以是坐标\n",
    "4. result results 记得 copy: results.append(result[:])\n",
    "5. for循环中计算下一个应该使用的dfs\n"
   ]
  },
  {
   "attachments": {},
   "cell_type": "markdown",
   "metadata": {},
   "source": [
    "200. \n",
    "Number of Islands\n",
    "Given an m x n 2D binary grid grid which represents a map of '1's (land) and '0's (water), return the number of islands.\n",
    "\n",
    "An island is surrounded by water and is formed by connecting adjacent lands horizontally or vertically. You may assume all four edges of the grid are all surrounded by water.\n",
    "\n",
    " \n",
    "\n",
    "Example 1:\n",
    "\n",
    "Input: grid = [\n",
    "  [\"1\",\"1\",\"1\",\"1\",\"0\"],\n",
    "  [\"1\",\"1\",\"0\",\"1\",\"0\"],\n",
    "  [\"1\",\"1\",\"0\",\"0\",\"0\"],\n",
    "  [\"0\",\"0\",\"0\",\"0\",\"0\"]\n",
    "]\n",
    "Output: 1\n",
    "Example 2:\n",
    "\n",
    "Input: grid = [\n",
    "  [\"1\",\"1\",\"0\",\"0\",\"0\"],\n",
    "  [\"1\",\"1\",\"0\",\"0\",\"0\"],\n",
    "  [\"0\",\"0\",\"1\",\"0\",\"0\"],\n",
    "  [\"0\",\"0\",\"0\",\"1\",\"1\"]\n",
    "]\n",
    "Output: 3"
   ]
  },
  {
   "cell_type": "code",
   "execution_count": null,
   "metadata": {},
   "outputs": [],
   "source": [
    "class Solution:\n",
    "    def numIslands(self, grid: [[str]]) -> int:\n",
    "        # return self.BFS(grid)\n",
    "        return self.DFS(grid)\n",
    "\n",
    "    def BFS(self, grid):\n",
    "        m = len(grid)\n",
    "        n = len(grid[0])\n",
    "        def bfs(i, j):\n",
    "            queue = deque([[i, j]])\n",
    "            while queue:\n",
    "                x, y = queue.popleft()\n",
    "                for a, b in [(x+1, y), (x-1, y), (x, y+1), (x, y-1)]:\n",
    "                    if 0 <= a < m and 0 <= b < n and grid[a][b] == '1':\n",
    "                        grid[a][b] = '0'\n",
    "                        queue.append([a, b])\n",
    "        \n",
    "        count = 0\n",
    "        for r in range(m):\n",
    "            for c in range(n):\n",
    "                if grid[r][c] == '1':\n",
    "                    grid[r][c] = '0'\n",
    "                    bfs(r, c)\n",
    "                    count += 1\n",
    "        \n",
    "        return count\n",
    "\n",
    "    def DFS(self, grid):\n",
    "        m = len(grid)\n",
    "        n = len(grid[0])\n",
    "\n",
    "        def dfs(i, j):\n",
    "            for a, b in [(i-1, j), (i+1, j), (i, j-1), (i, j+1)]:\n",
    "                if 0 <= a < m and 0 <= b < n and grid[a][b] == '1':\n",
    "                    grid[a][b] = '0'\n",
    "                    dfs(a, b)\n",
    "        \n",
    "        count = 0\n",
    "        for r in range(m):\n",
    "            for c in range(n):\n",
    "                if grid[r][c] == '1':\n",
    "                    count += 1\n",
    "                    grid[r][c] = '0'\n",
    "                    dfs(r, c)\n",
    "        return count"
   ]
  },
  {
   "cell_type": "code",
   "execution_count": null,
   "metadata": {},
   "outputs": [
    {
     "data": {
      "text/plain": [
       "3"
      ]
     },
     "metadata": {},
     "output_type": "display_data"
    }
   ],
   "source": [
    "grid = [\n",
    "  [\"1\",\"1\",\"0\",\"0\",\"0\"],\n",
    "  [\"1\",\"1\",\"0\",\"0\",\"0\"],\n",
    "  [\"0\",\"0\",\"1\",\"0\",\"0\"],\n",
    "  [\"0\",\"0\",\"0\",\"1\",\"1\"]\n",
    "]\n",
    "\n",
    "Solution().numIslands(grid)"
   ]
  },
  {
   "attachments": {},
   "cell_type": "markdown",
   "metadata": {},
   "source": [
    "39. \n",
    "Combination Sum\n",
    "Given an array of distinct integers candidates and a target integer target, return a list of all unique combinations of candidates where the chosen numbers sum to target. You may return the combinations in any order.\n",
    "\n",
    "The same number may be chosen from candidates an unlimited number of times. Two combinations are unique if the frequency of at least one of the chosen numbers is different.\n",
    "\n",
    "The test cases are generated such that the number of unique combinations that sum up to target is less than 150 combinations for the given input.\n",
    "\n",
    " \n",
    "\n",
    "Example 1:\n",
    "\n",
    "Input: candidates = [2,3,6,7], target = 7\n",
    "Output: [[2,2,3],[7]]\n",
    "Explanation:\n",
    "2 and 3 are candidates, and 2 + 2 + 3 = 7. Note that 2 can be used multiple times.\n",
    "7 is a candidate, and 7 = 7.\n",
    "These are the only two combinations.\n",
    "Example 2:\n",
    "\n",
    "Input: candidates = [2,3,5], target = 8\n",
    "Output: [[2,2,2,2],[2,3,3],[3,5]]\n",
    "Example 3:\n",
    "\n",
    "Input: candidates = [2], target = 1\n",
    "Output: []"
   ]
  },
  {
   "cell_type": "code",
   "execution_count": null,
   "metadata": {},
   "outputs": [],
   "source": [
    "class Solution:\n",
    "    def combinationSum(self, candidates: [int], target: int) -> [[int]]:\n",
    "        # return self.lateCheckDFS(candidates, target)\n",
    "        return self.preCheckDFS(candidates, target)\n",
    "\n",
    "    def preCheckDFS(self, candidates, target):\n",
    "        candidates.sort()\n",
    "        n = len(candidates)\n",
    "\n",
    "        results = []\n",
    "        result = []\n",
    "\n",
    "        def dfs(i, s):\n",
    "            for j in range(i, n):\n",
    "                num = candidates[j]\n",
    "                result.append(num)\n",
    "                if s + num == target:\n",
    "                    results.append(list(result))\n",
    "                elif s + num < target:\n",
    "                    dfs(j, s + num)\n",
    "                result.pop()\n",
    "        \n",
    "        dfs(0, 0)\n",
    "        return results\n",
    "\n",
    "\n",
    "    def lateCheckDFS(self, candidates, target):\n",
    "        candidates.sort()\n",
    "        n = len(candidates)\n",
    "\n",
    "        results = []\n",
    "        result = []\n",
    "        def dfs(i, s):\n",
    "            if s == target:\n",
    "                results.append(result[:])\n",
    "\n",
    "            if s > target:\n",
    "                return False \n",
    "            \n",
    "            for j in range(i, n):\n",
    "                result.append(candidates[j])\n",
    "                dfs(j, s + candidates[j])\n",
    "                result.pop()\n",
    "        \n",
    "        dfs(0, 0)\n",
    "        return results\n",
    "\n"
   ]
  },
  {
   "cell_type": "code",
   "execution_count": null,
   "metadata": {},
   "outputs": [
    {
     "data": {
      "text/plain": [
       "[[2, 2, 3], [7]]"
      ]
     },
     "metadata": {},
     "output_type": "display_data"
    }
   ],
   "source": [
    "candidates = [2,3,6,7]\n",
    "target = 7\n",
    "Solution().combinationSum(candidates, target)"
   ]
  },
  {
   "cell_type": "markdown",
   "metadata": {},
   "source": [
    "207. \n",
    "Course Schedule\n",
    "There are a total of numCourses courses you have to take, labeled from 0 to numCourses - 1. You are given an array prerequisites where prerequisites[i] = [ai, bi] indicates that you must take course bi first if you want to take course ai.\n",
    "\n",
    "For example, the pair [0, 1], indicates that to take course 0 you have to first take course 1.\n",
    "Return true if you can finish all courses. Otherwise, return false.\n",
    "\n",
    " \n",
    "\n",
    "Example 1:\n",
    "\n",
    "Input: numCourses = 2, prerequisites = [[1,0]]\n",
    "Output: true\n",
    "Explanation: There are a total of 2 courses to take. \n",
    "To take course 1 you should have finished course 0. So it is possible.\n",
    "Example 2:\n",
    "\n",
    "Input: numCourses = 2, prerequisites = [[1,0],[0,1]]\n",
    "Output: false\n",
    "Explanation: There are a total of 2 courses to take. \n",
    "To take course 1 you should have finished course 0, and to take course 0 you should also have finished course 1. So it is impossible."
   ]
  },
  {
   "cell_type": "code",
   "execution_count": 7,
   "metadata": {},
   "outputs": [],
   "source": [
    "class Solution:\n",
    "    def canFinish(self, numCourses: int, prerequisites: List[List[int]]) -> bool:\n",
    "        # return self.bfs(numCourses, prerequisites)\n",
    "        return self.dfs(numCourses, prerequisites)\n",
    "\n",
    "    def dfs(self, numCourses, prerequisites):\n",
    "        coursePreqs = defaultdict(list)\n",
    "        for course, preq in prerequisites:\n",
    "            coursePreqs[course].append(preq)\n",
    "        \n",
    "        visited = [-1] * numCourses\n",
    "        for course in range(numCourses):\n",
    "            if course not in coursePreqs:\n",
    "                visited[course] = 1\n",
    "        \n",
    "        def dfs(i):\n",
    "            # Whether the course can be completed\n",
    "            for preq in coursePreqs[i]:\n",
    "                if visited[preq] == 1:\n",
    "                    continue\n",
    "                if visited[preq] == 0:\n",
    "                    return False\n",
    "                visited[preq] = 0 \n",
    "                if not dfs(preq):\n",
    "                    return False \n",
    "                    \n",
    "            visited[i] = 1\n",
    "            return True \n",
    "        \n",
    "        def dfs(i):\n",
    "            if visited[i] == 1:\n",
    "                return True \n",
    "            if visited[i] == 0:\n",
    "                return False \n",
    "            visited[i] = 0\n",
    "            for preq in coursePreqs[i]:\n",
    "                if not dfs(preq):\n",
    "                    return False \n",
    "            visited[i] = 1\n",
    "            return True\n",
    "            \n",
    "        \n",
    "        for i in range(numCourses):\n",
    "            if not dfs(i):\n",
    "                return False\n",
    "        return True\n",
    "\n",
    "\n",
    "    def bfs(self, numCourses, prerequisites):\n",
    "        d = defaultdict(int)\n",
    "        f = defaultdict(list)\n",
    "        for course, pre in prerequisites:\n",
    "            d[course] += 1\n",
    "            f[pre].append(course)\n",
    "\n",
    "        # for pre in range(numCourses):\n",
    "\n",
    "\n",
    "        # find no need prerequisites\n",
    "        queue = deque([x for x in range(numCourses) if x not in d.keys()])\n",
    "        count = 0\n",
    "        while queue:\n",
    "            pre = queue.popleft()\n",
    "            count += 1\n",
    "            for course in f[pre]:\n",
    "                d[course] -= 1\n",
    "                if d[course] == 0:\n",
    "                    queue.append(course)\n",
    "        return count == numCourses"
   ]
  },
  {
   "cell_type": "code",
   "execution_count": 8,
   "metadata": {},
   "outputs": [
    {
     "data": {
      "text/plain": [
       "False"
      ]
     },
     "execution_count": 8,
     "metadata": {},
     "output_type": "execute_result"
    }
   ],
   "source": [
    "numCourses = 3\n",
    "prerequisites = [[1,0],[1,2],[0,1]]\n",
    "Solution().canFinish(numCourses, prerequisites)"
   ]
  },
  {
   "cell_type": "markdown",
   "metadata": {},
   "source": [
    "78. \n",
    "Subsets\n",
    "Given an integer array nums of unique elements, return all possible subsets (the power set).\n",
    "\n",
    "The solution set must not contain duplicate subsets. Return the solution in any order.\n",
    "\n",
    " \n",
    "\n",
    "Example 1:\n",
    "\n",
    "Input: nums = [1,2,3]\n",
    "Output: [[],[1],[2],[1,2],[3],[1,3],[2,3],[1,2,3]]\n",
    "Example 2:\n",
    "\n",
    "Input: nums = [0]\n",
    "Output: [[],[0]]\n",
    " \n",
    "\n",
    "Constraints:\n",
    "\n",
    "1 <= nums.length <= 10\n",
    "-10 <= nums[i] <= 10\n",
    "All the numbers of nums are unique."
   ]
  },
  {
   "cell_type": "code",
   "execution_count": 10,
   "metadata": {},
   "outputs": [],
   "source": [
    "class Solution:\n",
    "    def subsets(self, nums: List[int]) -> List[List[int]]:\n",
    "        return self.DFS_nonrecursive(nums)\n",
    "        return self.BFS(nums)\n",
    "        return self.DFS(nums)\n",
    "\n",
    "    def BFS(self, nums):\n",
    "        queue = deque([[[], 0]])\n",
    "        results = []\n",
    "        while queue:\n",
    "            for _ in range(len(queue)):\n",
    "                comb, pos = queue.popleft()\n",
    "                results.append(comb)\n",
    "                for i in range(pos, len(nums)):\n",
    "                    new_comb = comb + [nums[i]]\n",
    "                    queue.append([new_comb, i+1])\n",
    "        return results\n",
    "\n",
    "\n",
    "\n",
    "    def DFS(self, nums):\n",
    "        results = []\n",
    "        result = []\n",
    "        n = len(nums)\n",
    "        def dfs(i):\n",
    "            # 先加结果\n",
    "            results.append(list(result))\n",
    "            for j in range(i, len(nums)):\n",
    "                result.append(nums[j])\n",
    "                dfs(j+1) # dfs下一个：第一个不确定时，就把第一个放进选择，下一个dfs\n",
    "                result.pop()\n",
    "\n",
    "        dfs(0)\n",
    "        return results\n",
    "\n",
    "    def DFS_nonrecursive(self, nums):\n",
    "        results = []\n",
    "        n = len(nums)\n",
    "        nums.sort()\n",
    "        queue = deque([[[], 0]])\n",
    "        while queue:\n",
    "            comb, i = queue.pop()\n",
    "            results.append(comb)\n",
    "            # make sure that not overflow if not using for loop\n",
    "            for j in range(i, n):\n",
    "                new_comb = comb + [nums[j]]\n",
    "                queue.append([new_comb, j+1])\n",
    "        return results"
   ]
  },
  {
   "cell_type": "code",
   "execution_count": 11,
   "metadata": {},
   "outputs": [
    {
     "data": {
      "text/plain": [
       "[[], [3], [2], [2, 3], [1], [1, 3], [1, 2], [1, 2, 3]]"
      ]
     },
     "execution_count": 11,
     "metadata": {},
     "output_type": "execute_result"
    }
   ],
   "source": [
    "nums = [1,2,3]\n",
    "Solution().subsets(nums)"
   ]
  },
  {
   "attachments": {},
   "cell_type": "markdown",
   "metadata": {},
   "source": [
    "120. \n",
    "Triangle\n",
    "Given a triangle array, return the minimum path sum from top to bottom.\n",
    "\n",
    "For each step, you may move to an adjacent number of the row below. More formally, if you are on index i on the current row, you may move to either index i or index i + 1 on the next row.\n",
    "\n",
    " \n",
    "\n",
    "Example 1:\n",
    "\n",
    "Input: triangle = [[2],[3,4],[6,5,7],[4,1,8,3]]\n",
    "Output: 11\n",
    "Explanation: The triangle looks like:\n",
    "   2\n",
    "  3 4\n",
    " 6 5 7\n",
    "4 1 8 3\n",
    "The minimum path sum from top to bottom is 2 + 3 + 5 + 1 = 11 (underlined above).\n",
    "Example 2:\n",
    "\n",
    "Input: triangle = [[-10]]\n",
    "Output: -10"
   ]
  },
  {
   "cell_type": "code",
   "execution_count": 23,
   "metadata": {},
   "outputs": [],
   "source": [
    "class Solution:\n",
    "    def minimumTotal(self, triangle: List[List[int]]) -> int:\n",
    "        return self.DP_2(triangle)\n",
    "\n",
    "    def DP_1(self, triangle):\n",
    "        \"\"\"\n",
    "        从少到多有边界问题，从多到少有剩余问题\n",
    "        \"\"\"\n",
    "        n = len(triangle)\n",
    "        dp = triangle[-1]\n",
    "        for i in range(n-2, -1, -1):\n",
    "            for j in range(i + 1):\n",
    "                dp[j] = min(dp[j], dp[j+1]) + triangle[i][j]\n",
    "        return dp[0]\n",
    "\n",
    "    def DP_2(self, triangle):\n",
    "        n = len(triangle)\n",
    "        dp = [0] * n \n",
    "        dp[0] = triangle[0][0]\n",
    "        for i in range(1, n):\n",
    "            dp[i] = dp[i-1] + triangle[i][i]\n",
    "            for j in range(i-1, 0, -1):\n",
    "                dp[j] = min(dp[j-1], dp[j]) + triangle[i][j]\n",
    "            dp[0] += triangle[i][0]\n",
    "            # print(dp)\n",
    "        return min(dp)\n",
    "\n",
    "    def DP_n(self, triangle):\n",
    "        n = len(triangle)\n",
    "        for i in range(n):\n",
    "            for j in range(i+1):\n",
    "                if i > 0:\n",
    "                    if j == 0:\n",
    "                        triangle[i][j] += triangle[i-1][j]\n",
    "                    elif j == i:\n",
    "                        triangle[i][j] += triangle[i-1][j-1]\n",
    "                    else:\n",
    "                        triangle[i][j] += min(triangle[i-1][j-1], triangle[i-1][j])\n",
    "        return min(triangle[-1])\n",
    "\n",
    "    def dfs(self, triangle):\n",
    "        n = len(triangle)\n",
    "        min_path = float(\"inf\")\n",
    "        def dfs(i, j, s):\n",
    "            if i == n:\n",
    "                nonlocal min_path\n",
    "                min_path = min(min_path, s)\n",
    "                return \n",
    "            for x in [j, j + 1]:\n",
    "                if 0 <= x < i + 1:\n",
    "                    dfs(i + 1, x, s + triangle[i][x])\n",
    "        dfs(0, 0, 0)\n",
    "        return min_path\n",
    "\n",
    "\n",
    "\n"
   ]
  },
  {
   "cell_type": "code",
   "execution_count": 24,
   "metadata": {},
   "outputs": [
    {
     "data": {
      "text/plain": [
       "11"
      ]
     },
     "execution_count": 24,
     "metadata": {},
     "output_type": "execute_result"
    }
   ],
   "source": [
    "triangle = [[2],[3,4],[6,5,7],[4,1,8,3]]\n",
    "Solution().minimumTotal(triangle)"
   ]
  },
  {
   "cell_type": "code",
   "execution_count": null,
   "metadata": {},
   "outputs": [],
   "source": []
  }
 ],
 "metadata": {
  "kernelspec": {
   "display_name": "base",
   "language": "python",
   "name": "python3"
  },
  "language_info": {
   "codemirror_mode": {
    "name": "ipython",
    "version": 3
   },
   "file_extension": ".py",
   "mimetype": "text/x-python",
   "name": "python",
   "nbconvert_exporter": "python",
   "pygments_lexer": "ipython3",
   "version": "3.9.12"
  },
  "orig_nbformat": 4,
  "vscode": {
   "interpreter": {
    "hash": "841e27f2a14d44ccd92f4291012cb59f687474acc5b2dafa531afbd4ea5b7136"
   }
  }
 },
 "nbformat": 4,
 "nbformat_minor": 2
}

{
 "cells": [
  {
   "cell_type": "code",
   "execution_count": 2,
   "metadata": {},
   "outputs": [],
   "source": [
    "from collections import *"
   ]
  },
  {
   "attachments": {},
   "cell_type": "markdown",
   "metadata": {},
   "source": [
    "# BFS"
   ]
  },
  {
   "attachments": {},
   "cell_type": "markdown",
   "metadata": {},
   "source": [
    "1. 先找到已经满足的，加入visited\n",
    "2. 将已经满足的全部加入到队列中，并修正，将修正过的加入visited 例如蛇梯形\n",
    "3. 再找到加入队列后其他满足的\n",
    "4. 一直到队列为空\n",
    "5. 检查是否可行"
   ]
  },
  {
   "attachments": {},
   "cell_type": "markdown",
   "metadata": {},
   "source": [
    "102. \n",
    "Binary Tree Level Order Traversal\n",
    "Given the root of a binary tree, return the level order traversal of its nodes' values. (i.e., from left to right, level by level).\n",
    "\n",
    " \n",
    "\n",
    "Example 1:\n",
    "\n",
    "\n",
    "Input: root = [3,9,20,null,null,15,7]\n",
    "Output: [[3],[9,20],[15,7]]\n",
    "Example 2:\n",
    "\n",
    "Input: root = [1]\n",
    "Output: [[1]]\n",
    "Example 3:\n",
    "\n",
    "Input: root = []\n",
    "Output: []"
   ]
  },
  {
   "cell_type": "code",
   "execution_count": 4,
   "metadata": {},
   "outputs": [],
   "source": [
    "# Definition for a binary tree node.\n",
    "class TreeNode:\n",
    "    def __init__(self, val=0, left=None, right=None):\n",
    "        self.val = val\n",
    "        self.left = left\n",
    "        self.right = right\n",
    "        \n",
    "class Solution:\n",
    "    def levelOrder(self, root):\n",
    "        if not root:\n",
    "            return []\n",
    "\n",
    "        queue = deque([root])\n",
    "        results = []\n",
    "        while queue:\n",
    "            result = []\n",
    "            for _ in range(len(queue)):\n",
    "                node = queue.popleft()\n",
    "                result.append(node.val)\n",
    "                if node.left:\n",
    "                    queue.append(node.left)\n",
    "                if node.right:\n",
    "                    queue.append(node.right)\n",
    "            results.append(result)\n",
    "        \n",
    "        return results"
   ]
  },
  {
   "cell_type": "code",
   "execution_count": 9,
   "metadata": {},
   "outputs": [
    {
     "data": {
      "text/plain": [
       "[[3], [2, 5], [6, 11, 23]]"
      ]
     },
     "execution_count": 9,
     "metadata": {},
     "output_type": "execute_result"
    }
   ],
   "source": [
    "tree = TreeNode(3)\n",
    "tree.left = TreeNode(2)\n",
    "tree.right = TreeNode(5)\n",
    "tree.left.left = TreeNode(6)\n",
    "tree.right.left = TreeNode(11)\n",
    "tree.right.right = TreeNode(23)\n",
    "Solution().levelOrder(tree)"
   ]
  },
  {
   "attachments": {},
   "cell_type": "markdown",
   "metadata": {},
   "source": [
    "200. \n",
    "Number of Islands\n",
    "Given an m x n 2D binary grid grid which represents a map of '1's (land) and '0's (water), return the number of islands.\n",
    "\n",
    "An island is surrounded by water and is formed by connecting adjacent lands horizontally or vertically. You may assume all four edges of the grid are all surrounded by water.\n",
    "\n",
    " \n",
    "\n",
    "Example 1:\n",
    "\n",
    "Input: grid = [\n",
    "  [\"1\",\"1\",\"1\",\"1\",\"0\"],\n",
    "  [\"1\",\"1\",\"0\",\"1\",\"0\"],\n",
    "  [\"1\",\"1\",\"0\",\"0\",\"0\"],\n",
    "  [\"0\",\"0\",\"0\",\"0\",\"0\"]\n",
    "]\n",
    "Output: 1\n",
    "Example 2:\n",
    "\n",
    "Input: grid = [\n",
    "  [\"1\",\"1\",\"0\",\"0\",\"0\"],\n",
    "  [\"1\",\"1\",\"0\",\"0\",\"0\"],\n",
    "  [\"0\",\"0\",\"1\",\"0\",\"0\"],\n",
    "  [\"0\",\"0\",\"0\",\"1\",\"1\"]\n",
    "]\n",
    "Output: 3\n",
    " \n",
    "\n",
    "Constraints:\n",
    "\n",
    "m == grid.length\n",
    "n == grid[i].length\n",
    "1 <= m, n <= 300\n",
    "grid[i][j] is '0' or '1'."
   ]
  },
  {
   "cell_type": "code",
   "execution_count": 47,
   "metadata": {},
   "outputs": [],
   "source": [
    "class Solution:\n",
    "    def numIslands(self, grid: [[str]]) -> int:\n",
    "        '''\n",
    "        先赋零，再求解，这样的话会减少function call\n",
    "        '''\n",
    "        m = len(grid)\n",
    "        n = len(grid[0])\n",
    "        \n",
    "        def bfs(i, j):\n",
    "            queue = deque([[i,j]])\n",
    "            while queue:\n",
    "                x, y = queue.popleft()\n",
    "                for (a, b) in [(x-1, y), (x+1, y), (x, y-1), (x, y+1)]:\n",
    "                    if 0 <= a < m and 0 <= b < n and grid[a][b] == '1':\n",
    "                        grid[a][b] = '0'\n",
    "                        queue.append([a,b])\n",
    "            \n",
    "        count = 0\n",
    "        for r in range(m):\n",
    "            for c in range(n):\n",
    "                if grid[r][c] == '1':\n",
    "                    grid[r][c] = '0'\n",
    "                    bfs(r,c)\n",
    "                    count += 1\n",
    "\n",
    "        return count"
   ]
  },
  {
   "cell_type": "code",
   "execution_count": 48,
   "metadata": {},
   "outputs": [
    {
     "data": {
      "text/plain": [
       "1"
      ]
     },
     "execution_count": 48,
     "metadata": {},
     "output_type": "execute_result"
    }
   ],
   "source": [
    "grid = [[\"1\",\"1\",\"1\",\"1\",\"0\"],[\"1\",\"1\",\"0\",\"1\",\"0\"],[\"1\",\"1\",\"0\",\"0\",\"0\"],[\"0\",\"0\",\"0\",\"0\",\"0\"]]\n",
    "Solution().numIslands(grid)"
   ]
  },
  {
   "attachments": {},
   "cell_type": "markdown",
   "metadata": {},
   "source": [
    "909. \n",
    "蛇梯棋\n",
    "给你一个大小为 n x n 的整数矩阵 board ，方格按从 1 到 n2 编号，编号遵循 转行交替方式 ，从左下角开始 （即，从 board[n - 1][0] 开始）每一行交替方向。\n",
    "\n",
    "玩家从棋盘上的方格 1 （总是在最后一行、第一列）开始出发。\n",
    "\n",
    "每一回合，玩家需要从当前方格 curr 开始出发，按下述要求前进：\n",
    "\n",
    "选定目标方格 next ，目标方格的编号符合范围 [curr + 1, min(curr + 6, n2)] 。\n",
    "该选择模拟了掷 六面体骰子 的情景，无论棋盘大小如何，玩家最多只能有 6 个目的地。\n",
    "传送玩家：如果目标方格 next 处存在蛇或梯子，那么玩家会传送到蛇或梯子的目的地。否则，玩家传送到目标方格 next 。 \n",
    "当玩家到达编号 n2 的方格时，游戏结束。\n",
    "r 行 c 列的棋盘，按前述方法编号，棋盘格中可能存在 “蛇” 或 “梯子”；如果 board[r][c] != -1，那个蛇或梯子的目的地将会是 board[r][c]。编号为 1 和 n2 的方格上没有蛇或梯子。\n",
    "\n",
    "注意，玩家在每回合的前进过程中最多只能爬过蛇或梯子一次：就算目的地是另一条蛇或梯子的起点，玩家也 不能 继续移动。\n",
    "\n",
    "举个例子，假设棋盘是 [[-1,4],[-1,3]] ，第一次移动，玩家的目标方格是 2 。那么这个玩家将会顺着梯子到达方格 3 ，但 不能 顺着方格 3 上的梯子前往方格 4 。\n",
    "返回达到编号为 n2 的方格所需的最少移动次数，如果不可能，则返回 -1。"
   ]
  },
  {
   "cell_type": "code",
   "execution_count": 63,
   "metadata": {},
   "outputs": [],
   "source": [
    "class Solution:\n",
    "    def snakesAndLadders(self, board: [[int]]) -> int:\n",
    "        ''' \n",
    "        visited 要在所有条件满足之后再visited\n",
    "        '''\n",
    "        n = len(board)\n",
    "        nums = [-1]\n",
    "\n",
    "        reverse = False\n",
    "        for i in range(n-1, -1, -1):\n",
    "            if reverse:\n",
    "                nums += board[i][::-1]\n",
    "            else:\n",
    "                nums += board[i]\n",
    "            reverse = not reverse\n",
    "        \n",
    "\n",
    "        visited = [False] * (n ** 2 + 1)\n",
    "        queue = deque([1])\n",
    "        visited[1] = True\n",
    "        step = 0\n",
    "        while queue:\n",
    "            for _ in range(len(queue)):\n",
    "                label = queue.popleft()\n",
    "                if label == n ** 2:\n",
    "                    return step\n",
    "                \n",
    "                for x in range(label + 1, min(label + 7, n ** 2 + 1)):\n",
    "                    if nums[x] != -1:\n",
    "                        x = nums[x]\n",
    "\n",
    "                    if visited[x]:\n",
    "                        continue\n",
    "                        \n",
    "                    visited[x] = True\n",
    "\n",
    "                    queue.append(x)\n",
    "                    \n",
    "            step += 1\n",
    "        return -1\n",
    "\n",
    "\n"
   ]
  },
  {
   "cell_type": "code",
   "execution_count": 64,
   "metadata": {},
   "outputs": [
    {
     "data": {
      "text/plain": [
       "2"
      ]
     },
     "execution_count": 64,
     "metadata": {},
     "output_type": "execute_result"
    }
   ],
   "source": [
    "board = [[-1,-1,19,10,-1],\n",
    " [2,-1,-1,6,-1],\n",
    " [-1,17,-1,19,-1],\n",
    " [25,-1,20,-1,-1],\n",
    " [-1,-1,-1,-1,15]]\n",
    "\n",
    "Solution().snakesAndLadders(board)"
   ]
  },
  {
   "attachments": {},
   "cell_type": "markdown",
   "metadata": {},
   "source": [
    "207. \n",
    "Course Schedule\n",
    "There are a total of numCourses courses you have to take, labeled from 0 to numCourses - 1. You are given an array prerequisites where prerequisites[i] = [ai, bi] indicates that you must take course bi first if you want to take course ai.\n",
    "\n",
    "For example, the pair [0, 1], indicates that to take course 0 you have to first take course 1.\n",
    "Return true if you can finish all courses. Otherwise, return false.\n",
    "\n",
    " \n",
    "\n",
    "Example 1:\n",
    "\n",
    "Input: numCourses = 2, prerequisites = [[1,0]]\n",
    "Output: true\n",
    "Explanation: There are a total of 2 courses to take. \n",
    "To take course 1 you should have finished course 0. So it is possible.\n",
    "Example 2:\n",
    "\n",
    "Input: numCourses = 2, prerequisites = [[1,0],[0,1]]\n",
    "Output: false\n",
    "Explanation: There are a total of 2 courses to take. \n",
    "To take course 1 you should have finished course 0, and to take course 0 you should also have finished course 1. So it is impossible."
   ]
  },
  {
   "cell_type": "code",
   "execution_count": 66,
   "metadata": {},
   "outputs": [],
   "source": [
    "class Solution:\n",
    "    def canFinish(self, numCourses: int, prerequisites: [[int]]) -> bool:\n",
    "        d = defaultdict(int)\n",
    "        f = defaultdict(list)\n",
    "        for course, pre in prerequisites:\n",
    "            d[course] += 1\n",
    "            f[pre].append(course)\n",
    "\n",
    "        # for pre in range(numCourses):\n",
    "\n",
    "\n",
    "        # find no need prerequisites\n",
    "        queue = deque([x for x in range(numCourses) if x not in d.keys()])\n",
    "        count = 0\n",
    "        while queue:\n",
    "            pre = queue.popleft()\n",
    "            count += 1\n",
    "            for course in f[pre]:\n",
    "                d[course] -= 1\n",
    "                if d[course] == 0:\n",
    "                    queue.append(course)\n",
    "        return count == numCourses"
   ]
  },
  {
   "cell_type": "code",
   "execution_count": 78,
   "metadata": {},
   "outputs": [
    {
     "data": {
      "text/plain": [
       "True"
      ]
     },
     "execution_count": 78,
     "metadata": {},
     "output_type": "execute_result"
    }
   ],
   "source": [
    "numCourses = 5\n",
    "prerequisites = [[1,0],[3,1],[2,3],[4,3]]\n",
    "Solution().canFinish(numCourses, prerequisites)"
   ]
  },
  {
   "attachments": {},
   "cell_type": "markdown",
   "metadata": {},
   "source": [
    "# DFS"
   ]
  },
  {
   "attachments": {},
   "cell_type": "markdown",
   "metadata": {},
   "source": [
    "DFS的代码要比BFS简单一些，只要传坐标就可以，找出下一个坐标，然后要有visited\n",
    "\n",
    "对于visited更改，总是先更改，这样的话递归的就会少一些\n",
    "\n",
    "1. 找到满足条件的开始\n",
    "2. 更新开始\n",
    "3. 排序，for循环，传参index，可以是数字，也可以是坐标\n",
    "4. result results 记得 copy: results.append(result[:])\n",
    "5. for循环中计算下一个应该使用的dfs\n"
   ]
  },
  {
   "attachments": {},
   "cell_type": "markdown",
   "metadata": {},
   "source": [
    "200. \n",
    "Number of Islands\n",
    "Given an m x n 2D binary grid grid which represents a map of '1's (land) and '0's (water), return the number of islands.\n",
    "\n",
    "An island is surrounded by water and is formed by connecting adjacent lands horizontally or vertically. You may assume all four edges of the grid are all surrounded by water.\n",
    "\n",
    " \n",
    "\n",
    "Example 1:\n",
    "\n",
    "Input: grid = [\n",
    "  [\"1\",\"1\",\"1\",\"1\",\"0\"],\n",
    "  [\"1\",\"1\",\"0\",\"1\",\"0\"],\n",
    "  [\"1\",\"1\",\"0\",\"0\",\"0\"],\n",
    "  [\"0\",\"0\",\"0\",\"0\",\"0\"]\n",
    "]\n",
    "Output: 1\n",
    "Example 2:\n",
    "\n",
    "Input: grid = [\n",
    "  [\"1\",\"1\",\"0\",\"0\",\"0\"],\n",
    "  [\"1\",\"1\",\"0\",\"0\",\"0\"],\n",
    "  [\"0\",\"0\",\"1\",\"0\",\"0\"],\n",
    "  [\"0\",\"0\",\"0\",\"1\",\"1\"]\n",
    "]\n",
    "Output: 3"
   ]
  },
  {
   "cell_type": "code",
   "execution_count": 79,
   "metadata": {},
   "outputs": [],
   "source": [
    "class Solution:\n",
    "    def numIslands(self, grid: [[str]]) -> int:\n",
    "        # return self.BFS(grid)\n",
    "        return self.DFS(grid)\n",
    "\n",
    "    def BFS(self, grid):\n",
    "        m = len(grid)\n",
    "        n = len(grid[0])\n",
    "        def bfs(i, j):\n",
    "            queue = deque([[i, j]])\n",
    "            while queue:\n",
    "                x, y = queue.popleft()\n",
    "                for a, b in [(x+1, y), (x-1, y), (x, y+1), (x, y-1)]:\n",
    "                    if 0 <= a < m and 0 <= b < n and grid[a][b] == '1':\n",
    "                        grid[a][b] = '0'\n",
    "                        queue.append([a, b])\n",
    "        \n",
    "        count = 0\n",
    "        for r in range(m):\n",
    "            for c in range(n):\n",
    "                if grid[r][c] == '1':\n",
    "                    grid[r][c] = '0'\n",
    "                    bfs(r, c)\n",
    "                    count += 1\n",
    "        \n",
    "        return count\n",
    "\n",
    "    def DFS(self, grid):\n",
    "        m = len(grid)\n",
    "        n = len(grid[0])\n",
    "\n",
    "        def dfs(i, j):\n",
    "            for a, b in [(i-1, j), (i+1, j), (i, j-1), (i, j+1)]:\n",
    "                if 0 <= a < m and 0 <= b < n and grid[a][b] == '1':\n",
    "                    grid[a][b] = '0'\n",
    "                    dfs(a, b)\n",
    "        \n",
    "        count = 0\n",
    "        for r in range(m):\n",
    "            for c in range(n):\n",
    "                if grid[r][c] == '1':\n",
    "                    count += 1\n",
    "                    grid[r][c] = '0'\n",
    "                    dfs(r, c)\n",
    "        return count"
   ]
  },
  {
   "cell_type": "code",
   "execution_count": 80,
   "metadata": {},
   "outputs": [
    {
     "data": {
      "text/plain": [
       "3"
      ]
     },
     "execution_count": 80,
     "metadata": {},
     "output_type": "execute_result"
    }
   ],
   "source": [
    "grid = [\n",
    "  [\"1\",\"1\",\"0\",\"0\",\"0\"],\n",
    "  [\"1\",\"1\",\"0\",\"0\",\"0\"],\n",
    "  [\"0\",\"0\",\"1\",\"0\",\"0\"],\n",
    "  [\"0\",\"0\",\"0\",\"1\",\"1\"]\n",
    "]\n",
    "\n",
    "Solution().numIslands(grid)"
   ]
  },
  {
   "attachments": {},
   "cell_type": "markdown",
   "metadata": {},
   "source": [
    "39. \n",
    "Combination Sum\n",
    "Given an array of distinct integers candidates and a target integer target, return a list of all unique combinations of candidates where the chosen numbers sum to target. You may return the combinations in any order.\n",
    "\n",
    "The same number may be chosen from candidates an unlimited number of times. Two combinations are unique if the frequency of at least one of the chosen numbers is different.\n",
    "\n",
    "The test cases are generated such that the number of unique combinations that sum up to target is less than 150 combinations for the given input.\n",
    "\n",
    " \n",
    "\n",
    "Example 1:\n",
    "\n",
    "Input: candidates = [2,3,6,7], target = 7\n",
    "Output: [[2,2,3],[7]]\n",
    "Explanation:\n",
    "2 and 3 are candidates, and 2 + 2 + 3 = 7. Note that 2 can be used multiple times.\n",
    "7 is a candidate, and 7 = 7.\n",
    "These are the only two combinations.\n",
    "Example 2:\n",
    "\n",
    "Input: candidates = [2,3,5], target = 8\n",
    "Output: [[2,2,2,2],[2,3,3],[3,5]]\n",
    "Example 3:\n",
    "\n",
    "Input: candidates = [2], target = 1\n",
    "Output: []"
   ]
  },
  {
   "cell_type": "code",
   "execution_count": 82,
   "metadata": {},
   "outputs": [],
   "source": [
    "class Solution:\n",
    "    def combinationSum(self, candidates: [int], target: int) -> [[int]]:\n",
    "        # return self.lateCheckDFS(candidates, target)\n",
    "        return self.preCheckDFS(candidates, target)\n",
    "\n",
    "    def preCheckDFS(self, candidates, target):\n",
    "        candidates.sort()\n",
    "        n = len(candidates)\n",
    "\n",
    "        results = []\n",
    "        result = []\n",
    "\n",
    "        def dfs(i, s):\n",
    "            for j in range(i, n):\n",
    "                num = candidates[j]\n",
    "                result.append(num)\n",
    "                if s + num == target:\n",
    "                    results.append(list(result))\n",
    "                elif s + num < target:\n",
    "                    dfs(j, s + num)\n",
    "                result.pop()\n",
    "        \n",
    "        dfs(0, 0)\n",
    "        return results\n",
    "\n",
    "\n",
    "    def lateCheckDFS(self, candidates, target):\n",
    "        candidates.sort()\n",
    "        n = len(candidates)\n",
    "\n",
    "        results = []\n",
    "        result = []\n",
    "        def dfs(i, s):\n",
    "            if s == target:\n",
    "                results.append(result[:])\n",
    "\n",
    "            if s > target:\n",
    "                return False \n",
    "            \n",
    "            for j in range(i, n):\n",
    "                result.append(candidates[j])\n",
    "                dfs(j, s + candidates[j])\n",
    "                result.pop()\n",
    "        \n",
    "        dfs(0, 0)\n",
    "        return results\n",
    "\n"
   ]
  },
  {
   "cell_type": "code",
   "execution_count": 83,
   "metadata": {},
   "outputs": [
    {
     "data": {
      "text/plain": [
       "[[2, 2, 3], [7]]"
      ]
     },
     "execution_count": 83,
     "metadata": {},
     "output_type": "execute_result"
    }
   ],
   "source": [
    "candidates = [2,3,6,7]\n",
    "target = 7\n",
    "Solution().combinationSum(candidates, target)"
   ]
  },
  {
   "cell_type": "code",
   "execution_count": null,
   "metadata": {},
   "outputs": [],
   "source": []
  },
  {
   "cell_type": "code",
   "execution_count": 1,
   "metadata": {},
   "outputs": [
    {
     "name": "stdout",
     "output_type": "stream",
     "text": [
      "18\n",
      "18\n"
     ]
    }
   ],
   "source": [
    "from collections import defaultdict \n",
    "\n",
    "def get_minimum_connections(matrix):\n",
    "    adj = defaultdict(list)\n",
    "    n = len(matrix)\n",
    "    for i in range(n):\n",
    "        for j in range(n):\n",
    "            if matrix[i][j]:\n",
    "                adj[i].append(j)\n",
    "                adj[j].append(i)\n",
    "    \n",
    "    visited = [False] * n\n",
    "    def dfs(i):\n",
    "        for j in adj[i]:\n",
    "            if not visited[j]:\n",
    "                visited[j] = True\n",
    "                dfs(j)\n",
    "\n",
    "    ans = -1\n",
    "    for i in range(n):\n",
    "        if not visited[i]:\n",
    "            ans += 1\n",
    "            dfs(i)\n",
    "            visited[i] = True\n",
    "    \n",
    "    return ans\n",
    "\n",
    "import collections\n",
    "def get_minimum_connections_bfs(matrix):\n",
    "    adj = defaultdict(list)\n",
    "    n = len(matrix)\n",
    "    for i in range(n):\n",
    "        for j in range(n):\n",
    "            if matrix[i][j]:\n",
    "                adj[i].append(j)\n",
    "                adj[j].append(i)\n",
    "    \n",
    "    visited = [False] * n\n",
    "    \n",
    "    count = -1\n",
    "    for i in range(n):\n",
    "        if visited[i]:\n",
    "            continue \n",
    "        count += 1\n",
    "        queue = collections.deque([i])\n",
    "        while queue:\n",
    "            for _ in range(len(queue)):\n",
    "                node = queue.popleft()\n",
    "                for j in adj[node]:\n",
    "                    if visited[j]:\n",
    "                        continue\n",
    "                    visited[j] = True\n",
    "                    if j in adj:\n",
    "                        queue.append(j)\n",
    "    return count\n",
    "    \n",
    "    \n",
    "matrix = [ \n",
    "        [False, False, False, False, True], \n",
    "        [False, False, False, False, False], \n",
    "        [False, False, False, True, False], \n",
    "        [False, False, True, False, False], \n",
    "        [True, False, False, False, False] \n",
    "    ]\n",
    "\n",
    "import random\n",
    "n = 20\n",
    "matrix = [[False for _ in range(n)] for _ in range(n)]\n",
    "for i in range(n):\n",
    "    for j in range(i):\n",
    "        matrix[i][j] = random.random() < 0.03\n",
    "        matrix[j][i] = matrix[i][j]\n",
    "        \n",
    "print(get_minimum_connections_bfs(matrix)) # should print 1\n",
    "print(get_minimum_connections(matrix)) # should print 1"
   ]
  }
 ],
 "metadata": {
  "kernelspec": {
   "display_name": "base",
   "language": "python",
   "name": "python3"
  },
  "language_info": {
   "codemirror_mode": {
    "name": "ipython",
    "version": 3
   },
   "file_extension": ".py",
   "mimetype": "text/x-python",
   "name": "python",
   "nbconvert_exporter": "python",
   "pygments_lexer": "ipython3",
   "version": "3.9.12"
  },
  "orig_nbformat": 4,
  "vscode": {
   "interpreter": {
    "hash": "841e27f2a14d44ccd92f4291012cb59f687474acc5b2dafa531afbd4ea5b7136"
   }
  }
 },
 "nbformat": 4,
 "nbformat_minor": 2
}

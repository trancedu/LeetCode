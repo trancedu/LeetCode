{
 "cells": [
  {
   "cell_type": "code",
   "execution_count": 77,
   "metadata": {},
   "outputs": [],
   "source": [
    "from collections import *"
   ]
  },
  {
   "cell_type": "code",
   "execution_count": 9,
   "metadata": {},
   "outputs": [],
   "source": [
    "def maxk(nums, k, x):\n",
    "    n = len(nums)\n",
    "    if n <= k:\n",
    "        return max(nums) + x\n",
    "    \n",
    "    d = defaultdict(list)\n",
    "    for i, num in enumerate(nums):\n",
    "        d[i % k].append(num)\n",
    "    \n",
    "\n",
    "    for key in d:\n",
    "        s = sum(d[key])\n",
    "        l = len(d[key])\n",
    "        m = max(d[key])\n",
    "        x -= m * l - s\n",
    "        if x < 0:\n",
    "            return -1\n",
    "        d[key] = l * [m]\n",
    "    \n",
    "    \n",
    "    r = n % k \n",
    "    u = n // k\n",
    "    # 找到长度为u的\n",
    "    v_u = max([d[key][0] for key in d if len(d[key]) == u])\n",
    "    if r == 0: # 如果刚好整除，就返回\n",
    "        if x % u == 0: # 如果x也刚好整除，返回结果\n",
    "            return v_u + x // u\n",
    "        else:\n",
    "            return -1 # 如果x不能刚好整除，返回-1\n",
    "    # 如果不整除，找到u+1个的\n",
    "    v_u1 = max([d[key][0] for key in d if len(d[key]) == u+1])\n",
    "\n",
    "    # 将x减到0，分配给长度为u和u+1的数字\n",
    "    max_num = -float(\"inf\")\n",
    "    while x >= 0:\n",
    "        if x % (u+1) == 0: # 一旦能整除u+1，更新包含u+1的最大值\n",
    "            max_num = max(max_num, x // (u+1) + v_u1, v_u)\n",
    "        x -= u # 更新x和包含u个数的最大值\n",
    "        v_u += 1    \n",
    "    \n",
    "    return max(-1,max_num) # 返回-1和max_num中的最大值       \n",
    "    "
   ]
  },
  {
   "cell_type": "code",
   "execution_count": 10,
   "metadata": {},
   "outputs": [
    {
     "data": {
      "text/plain": [
       "-1"
      ]
     },
     "execution_count": 10,
     "metadata": {},
     "output_type": "execute_result"
    }
   ],
   "source": [
    "maxk([1,2,3,1,2,3],3,1)"
   ]
  },
  {
   "cell_type": "code",
   "execution_count": 6,
   "metadata": {},
   "outputs": [
    {
     "data": {
      "text/plain": [
       "5"
      ]
     },
     "execution_count": 6,
     "metadata": {},
     "output_type": "execute_result"
    }
   ],
   "source": [
    "maxk([1,2,3,1,2,3,1],3,7)"
   ]
  },
  {
   "cell_type": "code",
   "execution_count": 53,
   "metadata": {},
   "outputs": [
    {
     "data": {
      "text/plain": [
       "7"
      ]
     },
     "execution_count": 53,
     "metadata": {},
     "output_type": "execute_result"
    }
   ],
   "source": [
    "maxk([1,2,3,4,5],3,10)"
   ]
  },
  {
   "cell_type": "code",
   "execution_count": 3,
   "metadata": {},
   "outputs": [],
   "source": [
    "from collections import *\n",
    "def maxk(nums, k, x):\n",
    "    d = defaultdict(list)\n",
    "    for i in range(k):\n",
    "        d[i] = nums[i::k]\n",
    "    \n",
    "    n = len(nums)\n",
    "    for key in d:\n",
    "        m = max(d[key])\n",
    "        s = sum(d[key])\n",
    "        l = len(d[key])\n",
    "        x -= m * l - s \n",
    "        if x < 0:\n",
    "            return -1\n",
    "        d[key] = [m] * l \n",
    "    \n",
    "    \n",
    "    p, q = n // k, n % k \n",
    "    z = max(d[key][0] for key in d if len(d[key]) == p)\n",
    "    if q == 0:\n",
    "        if x % p == 0:\n",
    "            return x // p + z \n",
    "        else:\n",
    "            return -1\n",
    "    z1 = max(d[key][0] for key in d if len(d[key]) == p + 1)\n",
    "    cnt_num = -float(\"inf\")\n",
    "    for i in range(x // p + 1):\n",
    "        res = x - i * p\n",
    "        if res % (p + 1) == 0:\n",
    "            cnt_num = max(cnt_num, res // (p + 1) + z1, i + z)\n",
    "        \n",
    "    return max(cnt_num, -1)\n",
    "        "
   ]
  },
  {
   "cell_type": "code",
   "execution_count": 7,
   "metadata": {},
   "outputs": [
    {
     "data": {
      "text/plain": [
       "-1"
      ]
     },
     "execution_count": 7,
     "metadata": {},
     "output_type": "execute_result"
    }
   ],
   "source": [
    "maxk([1,2,3,1,2,3],3,1)"
   ]
  },
  {
   "cell_type": "code",
   "execution_count": 51,
   "metadata": {},
   "outputs": [
    {
     "data": {
      "text/plain": [
       "7"
      ]
     },
     "execution_count": 51,
     "metadata": {},
     "output_type": "execute_result"
    }
   ],
   "source": [
    "maxk([1,2,3,4,5],3,10)"
   ]
  },
  {
   "cell_type": "code",
   "execution_count": 58,
   "metadata": {},
   "outputs": [
    {
     "data": {
      "text/plain": [
       "9"
      ]
     },
     "execution_count": 58,
     "metadata": {},
     "output_type": "execute_result"
    }
   ],
   "source": [
    "maxk([1,2,3,4,5],3,12)"
   ]
  },
  {
   "cell_type": "code",
   "execution_count": 3,
   "metadata": {},
   "outputs": [],
   "source": [
    "def maxGift(s, t):\n",
    "    n = len(s)\n",
    "    m = len(t)\n",
    "    if not s or not t:\n",
    "        return 0\n",
    "    \n",
    "    max_num = 2\n",
    "    for i in range(n):\n",
    "        for j in range(m):\n",
    "            if s[i] == t[j]:\n",
    "                for k in range(1, min(m-j, n-i)):\n",
    "                    if s[i+k] == t[j+k]:\n",
    "                        max_num = max(max_num, (k+1) * 2)\n",
    "                    else:\n",
    "                        break \n",
    "    return max_num \n"
   ]
  },
  {
   "cell_type": "code",
   "execution_count": 25,
   "metadata": {},
   "outputs": [
    {
     "data": {
      "text/plain": [
       "6"
      ]
     },
     "execution_count": 25,
     "metadata": {},
     "output_type": "execute_result"
    }
   ],
   "source": [
    "s = '2154723543'\n",
    "t = '1637'\n",
    "t = '23754795216538'\n",
    "# s = \"1623457\"\n",
    "# t = \"1678594\"\n",
    "maxGift(s,t)"
   ]
  },
  {
   "cell_type": "code",
   "execution_count": 2,
   "metadata": {},
   "outputs": [],
   "source": [
    "def maxGift2(s, t):\n",
    "    n = len(s)\n",
    "    m = len(t)\n",
    "    if not s or not t:\n",
    "        return 0\n",
    "    \n",
    "    max_num = 2\n",
    "    # dp[i][j]表示s[i]和t[j]是否相等\n",
    "    dp = [[False] * m for _ in range(n)]\n",
    "    for i in range(n):\n",
    "        for j in range(m):\n",
    "            dp[i][j] = s[i] == t[j]\n",
    "    \n",
    "    # 对给定的数组，求最长的连续的True的长度\n",
    "    def get_max_length(bools):\n",
    "        max_cnt = 0\n",
    "        cnt = 0\n",
    "        for i in range(len(bools)):\n",
    "            if bools[i]:\n",
    "                cnt += 1\n",
    "                max_cnt = max(max_cnt, cnt)\n",
    "            else:\n",
    "                cnt = 0\n",
    "        return max_cnt\n",
    "    # 从左下角到右上角获取斜线上的值\n",
    "    starts = [(i,0) for i in range(n-1,-1,-1)] + [(0, i) for i in range(1, m)]\n",
    "    for x, y in starts:\n",
    "        bools = []\n",
    "        # 获取斜线上的值\n",
    "        while 0 <= x < n and 0 <= y < m:\n",
    "            bools.append(dp[x][y])\n",
    "            x += 1\n",
    "            y += 1\n",
    "        # 获取最长的连续的True的长度\n",
    "        cur_max_length = get_max_length(bools) * 2\n",
    "        max_num = max(max_num, cur_max_length)\n",
    "        \n",
    "    return max_num\n",
    "            "
   ]
  },
  {
   "cell_type": "code",
   "execution_count": 6,
   "metadata": {},
   "outputs": [],
   "source": [
    "import random \n",
    "# from string import\n",
    "s = \"\".join(random.choices([str(x) for x in range(10)],k=100))\n",
    "t = \"\".join(random.choices([str(x) for x in range(10)],k=100))\n",
    "s = \"a\" * 100 + 'b'\n",
    "t = \"a\" * 100 + 'c'"
   ]
  },
  {
   "cell_type": "code",
   "execution_count": 7,
   "metadata": {},
   "outputs": [
    {
     "name": "stdout",
     "output_type": "stream",
     "text": [
      "69.7 ms ± 2.94 ms per loop (mean ± std. dev. of 7 runs, 10 loops each)\n"
     ]
    }
   ],
   "source": [
    "%timeit -n 10 maxGift(s,t)"
   ]
  },
  {
   "cell_type": "code",
   "execution_count": 8,
   "metadata": {},
   "outputs": [
    {
     "name": "stdout",
     "output_type": "stream",
     "text": [
      "4.17 ms ± 163 µs per loop (mean ± std. dev. of 7 runs, 100 loops each)\n"
     ]
    }
   ],
   "source": [
    "%timeit -n 100 maxGift2(s,t)"
   ]
  },
  {
   "cell_type": "code",
   "execution_count": 28,
   "metadata": {},
   "outputs": [],
   "source": [
    "for i in range(1000):\n",
    "    s = \"\".join(random.choices([str(x) for x in range(10)],k=6))\n",
    "    t = \"\".join(random.choices([str(x) for x in range(10)],k=6))\n",
    "    if maxGift(s,t) != maxGift2(s,t):\n",
    "        print(s)\n",
    "        print(t)\n",
    "        print(maxGift(s,t), maxGift2(s,t))\n",
    "        print()"
   ]
  },
  {
   "attachments": {},
   "cell_type": "markdown",
   "metadata": {},
   "source": [
    "## 删除游戏"
   ]
  },
  {
   "cell_type": "code",
   "execution_count": 15,
   "metadata": {},
   "outputs": [
    {
     "name": "stdout",
     "output_type": "stream",
     "text": [
      "4\n",
      "6\n",
      "18\n"
     ]
    }
   ],
   "source": [
    "def get_delete_max_dfs(nums):\n",
    "    # 计算每个数的和\n",
    "    d = Counter(nums)\n",
    "    for i in d:\n",
    "        d[i] = d[i] * i \n",
    "\n",
    "    # 将去重后的数字排序\n",
    "    s = sorted(d.keys())\n",
    "    n = len(s)\n",
    "    \n",
    "    deleted = [False] * (n+1)\n",
    "    def dfs(i, cur_sum):            \n",
    "        if i >= n:\n",
    "            return cur_sum\n",
    "        \n",
    "        if deleted[i]:\n",
    "            return dfs(i+1, cur_sum) \n",
    "        \n",
    "        if i + 1 < n and s[i+1] - s[i] == 1:\n",
    "            res = -float(\"inf\")\n",
    "            for j in range(2):\n",
    "                cond = i+j+1 < n and s[i+j+1]-s[i+j] == 1\n",
    "                if cond:\n",
    "                    deleted[i+j+1] = True\n",
    "                res = max(res, dfs(i+2, cur_sum + d[s[i+j]]))\n",
    "                if cond:\n",
    "                    deleted[i+j+1] = False\n",
    "        else:\n",
    "            res = dfs(i+1, cur_sum + d[s[i]])\n",
    "        \n",
    "        return res\n",
    "            \n",
    "    max_sum = dfs(0, 0)\n",
    "    return max_sum\n",
    "            \n",
    "            \n",
    "nums = [1,2,2,3]\n",
    "print(get_delete_max_dfs(nums))\n",
    "\n",
    "nums = [1,2,2,2,3] \n",
    "print(get_delete_max_dfs(nums))\n",
    "\n",
    "nums = [1, 1, 1, 1, 2, 2, 2, 4, 4, 4]\n",
    "print(get_delete_max_dfs(nums))"
   ]
  },
  {
   "cell_type": "code",
   "execution_count": 25,
   "metadata": {},
   "outputs": [
    {
     "name": "stdout",
     "output_type": "stream",
     "text": [
      "4\n",
      "6\n",
      "18\n"
     ]
    }
   ],
   "source": [
    "def get_delete_max_dp(nums):\n",
    "    # 计算每个数的和\n",
    "    d = Counter(nums)\n",
    "    for i in d:\n",
    "        d[i] = d[i] * i \n",
    "\n",
    "    # 将去重后的数字排序\n",
    "    s = sorted(d.keys())\n",
    "    n = len(s)\n",
    "    \n",
    "    # 动态规划：dp[i]表示前i个不同的数删除后的最大和, s[0,..,i-1]\n",
    "    dp = [-float(\"inf\")] * (n + 1)\n",
    "    dp[0] = 0 \n",
    "    for i in range(1, n+1):\n",
    "        # 如果后一个数和前一个数不连续，或者没有后一个数\n",
    "        # 则删除s[i-1]就好，s[i]不会被删除\n",
    "        if (i < n and s[i] - s[i-1] != 1) or i == n:\n",
    "            dp[i] = dp[i-1] + d[s[i-1]]\n",
    "        \n",
    "        # 如果前两个数都连续，则删除其中一个即可\n",
    "        if i >= 2 and s[i-1] - s[i-2] == 1:\n",
    "            # 如果s[i-1]还和后面的数连续，则不能删s[i-1], 只能删s[i-2]\n",
    "            if i < n and s[i] - s[i-1] == 1:\n",
    "                dp[i] = max(dp[i], dp[i-2] + d[s[i-2]])\n",
    "            else:\n",
    "                dp[i] = max(dp[i], dp[i-2] + max(d[s[i-2]], d[s[i-1]]))\n",
    "            # 如果s[i-2]和s[i-3]连续，则可以删s[i-2]，即可删除3个数\n",
    "            if s[i-2] - s[i-3] == 1:\n",
    "                dp[i] = max(dp[i], dp[i-3] + d[s[i-2]])\n",
    "    return dp[n]\n",
    "\n",
    "nums = [1,2,2,3]\n",
    "print(get_delete_max_dfs(nums))\n",
    "\n",
    "nums = [1,2,2,2,3] \n",
    "print(get_delete_max_dfs(nums))\n",
    "\n",
    "nums = [1, 1, 1, 1, 2, 2, 2, 4, 4, 4]\n",
    "print(get_delete_max_dfs(nums))"
   ]
  },
  {
   "cell_type": "code",
   "execution_count": 17,
   "metadata": {},
   "outputs": [],
   "source": [
    "\n"
   ]
  },
  {
   "cell_type": "code",
   "execution_count": 26,
   "metadata": {},
   "outputs": [
    {
     "name": "stdout",
     "output_type": "stream",
     "text": [
      "0\n"
     ]
    }
   ],
   "source": [
    "import numpy as np \n",
    "cnt = 0\n",
    "for _ in range(1000):\n",
    "    nums = np.random.randint(1,20,100)\n",
    "    nums.sort()\n",
    "    if get_delete_max_dp(nums) != get_delete_max_dfs(nums):\n",
    "        cnt += 1\n",
    "        break\n",
    "cnt"
   ]
  },
  {
   "cell_type": "code",
   "execution_count": 27,
   "metadata": {},
   "outputs": [
    {
     "name": "stdout",
     "output_type": "stream",
     "text": [
      "63.5 µs ± 12.9 µs per loop (mean ± std. dev. of 7 runs, 100 loops each)\n"
     ]
    }
   ],
   "source": [
    "%%timeit -n 100\n",
    "get_delete_max_dp(nums)"
   ]
  },
  {
   "cell_type": "code",
   "execution_count": 28,
   "metadata": {},
   "outputs": [
    {
     "name": "stdout",
     "output_type": "stream",
     "text": [
      "609 µs ± 18.4 µs per loop (mean ± std. dev. of 7 runs, 100 loops each)\n"
     ]
    }
   ],
   "source": [
    "%%timeit -n 100\n",
    "get_delete_max_dfs(nums)"
   ]
  },
  {
   "cell_type": "code",
   "execution_count": 81,
   "metadata": {},
   "outputs": [],
   "source": [
    "nums.sort()"
   ]
  },
  {
   "cell_type": "markdown",
   "metadata": {},
   "source": []
  },
  {
   "cell_type": "code",
   "execution_count": 14,
   "metadata": {},
   "outputs": [],
   "source": [
    "\n",
    "def get_k(pixels):\n",
    "    n = len(pixels)\n",
    "    a, b = min(pixels), max(pixels)\n",
    "    \n",
    "    min_dif = float(\"inf\")\n",
    "    res = 0\n",
    "    for k in range(-b, 255-a+1):\n",
    "        s = 0\n",
    "        for i in range(n):\n",
    "            s += max(0, min(255, pixels[i] + k))\n",
    "        dif = abs(s / n - 128)\n",
    "        if dif < min_dif:\n",
    "            res = k\n",
    "            min_dif = dif\n",
    "        # print(dif, k)\n",
    "    return res"
   ]
  },
  {
   "cell_type": "code",
   "execution_count": 17,
   "metadata": {},
   "outputs": [
    {
     "data": {
      "text/plain": [
       "-2"
      ]
     },
     "execution_count": 17,
     "metadata": {},
     "output_type": "execute_result"
    }
   ],
   "source": [
    "pixels = [129,130,129,130]\n",
    "get_k(pixels)"
   ]
  },
  {
   "attachments": {},
   "cell_type": "markdown",
   "metadata": {},
   "source": [
    "## 经纪人"
   ]
  },
  {
   "cell_type": "code",
   "execution_count": 7,
   "metadata": {},
   "outputs": [
    {
     "name": "stdout",
     "output_type": "stream",
     "text": [
      "0 0 1\n",
      "1 2 3\n",
      "2 3 5\n",
      "[1, 1, 2]\n"
     ]
    }
   ],
   "source": [
    "n = 3\n",
    "nums = [[0,0,1],[0,1,3],[0,2,2]]\n",
    "nums = [[0,0,1],[1,2,1],[2,3,2]]\n",
    "m = len(nums)\n",
    "times = [0] * m\n",
    "cum_times = [0] * m \n",
    "\n",
    "def get_min_p(arrive_t):\n",
    "    for i in range(m):\n",
    "        if arrive_t >= times[i]:\n",
    "            return i \n",
    "    \n",
    "    mint = min(times)\n",
    "    for i in range(m):\n",
    "        if times[i] == mint:\n",
    "            return i\n",
    "\n",
    "\n",
    "    \n",
    "for p, arrive_t, call_t in nums:\n",
    "    if arrive_t >= times[p]: # free\n",
    "        \n",
    "        times[p] = arrive_t + call_t \n",
    "        cum_times[p] += call_t\n",
    "    else:\n",
    "\n",
    "        min_p = get_min_p(call_t)\n",
    "        # print(min_p)\n",
    "        times[min_p] = max(times[min_p], arrive_t) + call_t\n",
    "        cum_times[min_p] += call_t\n",
    "    print(p, arrive_t, times[p])\n",
    "\n",
    "print(cum_times)        \n"
   ]
  },
  {
   "cell_type": "code",
   "execution_count": 8,
   "metadata": {},
   "outputs": [],
   "source": [
    "n = 3\n",
    "nums = [[0,0,1],[0,1,3],[0,2,2]]\n",
    "nums = [[0,0,1],[1,2,1],[2,3,2]]\n",
    "m = len(nums)\n",
    "times = [0] * m\n",
    "cum_times = [0] * m \n",
    "\n",
    "from heapq import * \n",
    "heap = []\n",
    "\n",
    "\n",
    "for p, arrive_t, call_t in nums:\n",
    "    if arrive_t >= times[p]:\n",
    "        times[p] = arrive_t + call_t\n",
    "        "
   ]
  },
  {
   "attachments": {},
   "cell_type": "markdown",
   "metadata": {},
   "source": [
    "## 分糖果"
   ]
  },
  {
   "cell_type": "code",
   "execution_count": 13,
   "metadata": {},
   "outputs": [
    {
     "data": {
      "text/plain": [
       "'1100'"
      ]
     },
     "execution_count": 13,
     "metadata": {},
     "output_type": "execute_result"
    }
   ],
   "source": [
    "bin(12)[2:]"
   ]
  },
  {
   "cell_type": "code",
   "execution_count": 71,
   "metadata": {},
   "outputs": [],
   "source": [
    "def add(x, y):\n",
    "    x = bin(x)[2:]\n",
    "    y = bin(y)[2:]\n",
    "    print(x, y)\n",
    "\n",
    "    lx = len(x)\n",
    "    ly = len(y)\n",
    "    m = min(lx, ly)\n",
    "    s = ''\n",
    "    for i in range(1,m+1):\n",
    "        c = int(x[-i]) + int(y[-i])\n",
    "        if c == 2:\n",
    "            c = 0 \n",
    "        s = str(c) + s \n",
    "\n",
    "    s = x[:(lx-m)] + s \n",
    "    s = y[:(ly-m)] + s \n",
    "\n",
    "    s = '0b' + s \n",
    "    return int(s, 2)\n",
    "             "
   ]
  },
  {
   "cell_type": "code",
   "execution_count": 73,
   "metadata": {},
   "outputs": [
    {
     "name": "stdout",
     "output_type": "stream",
     "text": [
      "101 100\n"
     ]
    },
    {
     "data": {
      "text/plain": [
       "1"
      ]
     },
     "execution_count": 73,
     "metadata": {},
     "output_type": "execute_result"
    }
   ],
   "source": [
    "add(5,4)"
   ]
  },
  {
   "cell_type": "code",
   "execution_count": 74,
   "metadata": {},
   "outputs": [
    {
     "name": "stdout",
     "output_type": "stream",
     "text": [
      "1 11\n"
     ]
    },
    {
     "data": {
      "text/plain": [
       "2"
      ]
     },
     "execution_count": 74,
     "metadata": {},
     "output_type": "execute_result"
    }
   ],
   "source": [
    "add(1,3)"
   ]
  },
  {
   "attachments": {},
   "cell_type": "markdown",
   "metadata": {},
   "source": [
    "## Priority"
   ]
  },
  {
   "cell_type": "code",
   "execution_count": 89,
   "metadata": {},
   "outputs": [
    {
     "data": {
      "text/plain": [
       "[3, 1, 2]"
      ]
     },
     "execution_count": 89,
     "metadata": {},
     "output_type": "execute_result"
    }
   ],
   "source": [
    "n = 4\n",
    "m = 3\n",
    "nums = [[1,2,1],[2,3,1],[3,4,2]]\n",
    "n = 3\n",
    "m = 3\n",
    "nums = [[1,2,1],[3,1,2],[3,2,1]]\n",
    "\n",
    "import numpy as np \n",
    "import functools\n",
    "def priority(n, m, nums):\n",
    "    adj = defaultdict(list)\n",
    "    for p,c,l in nums:\n",
    "        adj[p].append([c,l])\n",
    "\n",
    "    @functools.cache\n",
    "    def dfs(i, s):\n",
    "        m = s\n",
    "        for c,l in adj[i]:\n",
    "            m = max(dfs(c, s+l), m)\n",
    "        return m \n",
    "        \n",
    "    scores = [0] * n\n",
    "    for i in range(1,n+1):\n",
    "        # if i not in adj:\n",
    "        scores[i-1] = dfs(i, 0)\n",
    "\n",
    "    ranks = list(x+1 for x in np.argsort(scores)[::-1])\n",
    "    return ranks \n",
    "\n",
    "priority(n, m, nums)"
   ]
  },
  {
   "attachments": {},
   "cell_type": "markdown",
   "metadata": {},
   "source": [
    "## 支配数"
   ]
  },
  {
   "cell_type": "code",
   "execution_count": 103,
   "metadata": {},
   "outputs": [
    {
     "data": {
      "text/plain": [
       "3"
      ]
     },
     "execution_count": 103,
     "metadata": {},
     "output_type": "execute_result"
    }
   ],
   "source": [
    "n = 5\n",
    "k = 2\n",
    "nums = [2, 1, 3, 2, 1]\n",
    "\n",
    "\n",
    "def get_zones(n,k,nums):\n",
    "    cnts = 0\n",
    "    for l in range(n-k+1):\n",
    "        r = l \n",
    "        d = defaultdict(int)\n",
    "        while r < n:\n",
    "            d[nums[r]] += 1\n",
    "            # print(r, nums[r], d[nums[r]])\n",
    "            if d[nums[r]] == k:\n",
    "                cnts += n - r\n",
    "                break\n",
    "            r += 1\n",
    "    return cnts \n",
    "\n",
    "get_zones(n,k,nums)\n",
    "                "
   ]
  },
  {
   "cell_type": "code",
   "execution_count": 102,
   "metadata": {},
   "outputs": [
    {
     "data": {
      "text/plain": [
       "9"
      ]
     },
     "execution_count": 102,
     "metadata": {},
     "output_type": "execute_result"
    }
   ],
   "source": [
    "k = 2\n",
    "nums = [2, 1,2,1,2,3]\n",
    "n = len(nums)\n",
    "\n",
    "get_zones(n,k,nums)"
   ]
  },
  {
   "cell_type": "code",
   "execution_count": 109,
   "metadata": {},
   "outputs": [
    {
     "name": "stdout",
     "output_type": "stream",
     "text": [
      "0\n",
      "0\n",
      "3\n",
      "0\n",
      "5\n",
      "0\n",
      "7\n",
      "0\n",
      "9\n",
      "0\n",
      "11\n",
      "0\n",
      "10\n",
      "0\n",
      "8\n",
      "1\n",
      "10\n",
      "1\n",
      "11\n",
      "1\n",
      "9\n",
      "0\n",
      "6\n",
      "0\n",
      "7\n",
      "1\n",
      "9\n",
      "1\n",
      "8\n",
      "0\n",
      "4\n",
      "0\n",
      "5\n",
      "0\n",
      "6\n",
      "0\n",
      "7\n",
      "0\n"
     ]
    },
    {
     "data": {
      "text/plain": [
       "1"
      ]
     },
     "execution_count": 109,
     "metadata": {},
     "output_type": "execute_result"
    }
   ],
   "source": [
    "nums = [3,4,5,6,5,12,13]\n",
    "\n",
    "\n",
    "\n",
    "def squareTriangles(nums):\n",
    "    n = len(nums)\n",
    "    nums.sort()\n",
    "    nums = [x ** 2 for x in nums]\n",
    "\n",
    "    @functools.cache\n",
    "    def dfs(i,j,cnt):\n",
    "        if i == n or j == n:\n",
    "            return cnt         \n",
    "        \n",
    "        if nums[i] + nums[j] in nums[max(i,j)+1:]:\n",
    "            cnt += 1\n",
    "            \n",
    "        print(nums[i] + nums[j])\n",
    "        print(cnt)\n",
    "        res = cnt\n",
    "        for x in range(i,n):\n",
    "            for y in range(max(x+1,j), n):\n",
    "                res = max(dfs(x+1, y+1, cnt), res)\n",
    "        \n",
    "        return res \n",
    "    \n",
    "    res = dfs(0,0,0)    \n",
    "    return res\n",
    "        \n",
    "squareTriangles(nums)  "
   ]
  },
  {
   "cell_type": "code",
   "execution_count": 1,
   "metadata": {},
   "outputs": [
    {
     "data": {
      "text/plain": [
       "24"
      ]
     },
     "execution_count": 1,
     "metadata": {},
     "output_type": "execute_result"
    }
   ],
   "source": [
    "def count_right_triangles(segments):\n",
    "    count = [0]  # a mutable object to hold the count\n",
    "    n = len(segments)\n",
    "    visited = set()  # keep track of visited segments to avoid duplicates\n",
    "    def dfs(comb):\n",
    "        if len(comb) == 3:\n",
    "            # check if these segments form a right triangle\n",
    "            a, b, c = sorted([segments[i] for i in comb])\n",
    "            if a**2 + b**2 == c**2:\n",
    "                count[0] += 1\n",
    "            return\n",
    "        for i in range(n):\n",
    "            if i not in visited:\n",
    "                visited.add(i)\n",
    "                dfs(comb + [i])\n",
    "                visited.remove(i)\n",
    "    dfs([])\n",
    "    return count[0]\n",
    "\n",
    "segments = [3,4,5,6,5,12,13]\n",
    "count_right_triangles(segments)"
   ]
  },
  {
   "attachments": {},
   "cell_type": "markdown",
   "metadata": {},
   "source": [
    "## 去除空格"
   ]
  },
  {
   "cell_type": "code",
   "execution_count": 6,
   "metadata": {},
   "outputs": [
    {
     "data": {
      "text/plain": [
       "(\"Life is painting a picture, not doing 'a sum'.\",\n",
       " [[8, 15], [19, 25], [42, 44]])"
      ]
     },
     "execution_count": 6,
     "metadata": {},
     "output_type": "execute_result"
    }
   ],
   "source": [
    "s1 = \"Life is painting a  picture, not doing 'a sum'.\"\n",
    "s2 = \"8 15,20 26,43 45\"\n",
    "\n",
    "def remove_space(s1, s2):\n",
    "    n = len(s1)\n",
    "    drops = set()\n",
    "    quote = False\n",
    "    \n",
    "    for i in range(n):\n",
    "        if s1[i] == \"'\":\n",
    "            quote = not quote\n",
    "        elif s1[i-1:i+1] == '  ' and not quote:\n",
    "            drops.add(i)\n",
    "    \n",
    "    s3 = ''\n",
    "    for i in range(n):\n",
    "        if i not in drops:\n",
    "            s3 += s1[i]\n",
    "    \n",
    "    ls = [] \n",
    "    for x in s2.split(','):\n",
    "        a, b = x.split()\n",
    "        a = int(a)\n",
    "        b = int(b)\n",
    "        cnt = 0\n",
    "        for j in drops:\n",
    "            if a > j:\n",
    "                cnt += 1\n",
    "        ls.append([a-cnt, b-cnt])\n",
    "    \n",
    "    return s3, ls\n",
    "    \n",
    "remove_space(s1, s2)    \n",
    "            "
   ]
  },
  {
   "cell_type": "code",
   "execution_count": null,
   "metadata": {},
   "outputs": [],
   "source": []
  },
  {
   "cell_type": "code",
   "execution_count": 50,
   "metadata": {},
   "outputs": [
    {
     "name": "stdout",
     "output_type": "stream",
     "text": [
      "0.500000\n",
      "0.333333\n",
      "0.166667\n"
     ]
    }
   ],
   "source": [
    "def plusMinus(arr):\n",
    "    pos, neg, zeros = 0, 0, 0\n",
    "    for x in arr:\n",
    "        if x > 0:\n",
    "            pos += 1\n",
    "        elif x < 0:\n",
    "            neg += 1\n",
    "        else:\n",
    "            zeros += 1\n",
    "    n = len(arr)\n",
    "    print(f'{pos/n:.6f}')\n",
    "    print(f'{neg/n:.6f}')\n",
    "    print(f'{zeros/n:.6f}')\n",
    "    \n",
    "plusMinus([-4, 3, -9, 0, 4, 1])"
   ]
  },
  {
   "cell_type": "code",
   "execution_count": 51,
   "metadata": {},
   "outputs": [],
   "source": [
    "def miniMaxSum(arr):\n",
    "    arr.sort()\n",
    "    print(sum(arr[:-1]), sum(arr[1:]))\n",
    "    "
   ]
  },
  {
   "cell_type": "code",
   "execution_count": null,
   "metadata": {},
   "outputs": [],
   "source": [
    "def gridChallenge(grid):\n",
    "    n = len(grid)\n",
    "    for i in range(n):\n",
    "        grid[i] = sorted(grid[i])\n",
    "    for i in range(n):\n",
    "        for j in range(1, n):\n",
    "            if grid[j][i] < grid[j-1][i]:\n",
    "                return 'NO'\n",
    "    return 'YES'"
   ]
  },
  {
   "cell_type": "code",
   "execution_count": 63,
   "metadata": {},
   "outputs": [
    {
     "name": "stdout",
     "output_type": "stream",
     "text": [
      "[1]\n",
      "[3, 2]\n",
      "[1, 5, 1]\n",
      "[4, 3, 1, 3]\n"
     ]
    },
    {
     "data": {
      "text/plain": [
       "12"
      ]
     },
     "execution_count": 63,
     "metadata": {},
     "output_type": "execute_result"
    }
   ],
   "source": [
    "triangle = [[1],[3,2],[1,5,1],[4,3,1,3]]\n",
    "\n",
    "    \n",
    "nums = [1,3,2,1,5,1,4,3,1,3]\n",
    "    \n",
    "def maxSumTriangle(nums):\n",
    "    m = len(nums)\n",
    "    step = 1\n",
    "    i = 0\n",
    "    triangle = []\n",
    "    while i < m:\n",
    "        triangle.append(nums[i:i+step])\n",
    "        i += step\n",
    "        step += 1\n",
    "    \n",
    "    n = len(triangle)\n",
    "    for x in triangle:\n",
    "        print(x)\n",
    "    for i in range(n-2, -1, -1):\n",
    "        for j in range(len(triangle[i])):\n",
    "            triangle[i][j] += max(triangle[i+1][j], triangle[i+1][j+1])\n",
    "    return triangle[0][0]\n",
    "\n",
    "maxSumTriangle(nums)\n"
   ]
  },
  {
   "cell_type": "code",
   "execution_count": 64,
   "metadata": {},
   "outputs": [],
   "source": [
    "def super_digit(n, k):\n",
    "    # if n < 10:\n",
    "    #     return n\n",
    "    # s = sum(int(x) for x in str(n))\n",
    "    # return super_digit(s*k, 1)\n",
    "    if int(n) < 10:\n",
    "        return int(n)\n",
    "    s = sum(int(x) for x in str(n))\n",
    "    return super_digit(s*k, 1)"
   ]
  },
  {
   "cell_type": "code",
   "execution_count": null,
   "metadata": {},
   "outputs": [],
   "source": [
    "def minimumBribes(q):\n",
    "    n = len(q)\n",
    "    cnt = 0\n",
    "    for i in range(n-1, -1, -1):\n",
    "        if q[i] - (i+1) > 2:\n",
    "            return 'Too chaotic'\n",
    "        for j in range(max(0, q[i]-2), i):\n",
    "            if q[j] > q[i]:\n",
    "                cnt += 1\n",
    "    return cnt"
   ]
  },
  {
   "attachments": {},
   "cell_type": "markdown",
   "metadata": {},
   "source": [
    "## 分奖金"
   ]
  },
  {
   "cell_type": "code",
   "execution_count": 19,
   "metadata": {},
   "outputs": [
    {
     "data": {
      "text/plain": [
       "[8, 10, 3]"
      ]
     },
     "execution_count": 19,
     "metadata": {},
     "output_type": "execute_result"
    }
   ],
   "source": [
    "class Solution:\n",
    "    def getBonus(self, nums):\n",
    "        n = len(nums)\n",
    "        stack = []\n",
    "        rewards = [0] * n\n",
    "        for i, num in enumerate(nums):\n",
    "            while stack and nums[stack[-1]] < num:\n",
    "                j = stack.pop()\n",
    "                rewards[j] = (i - j) * (num - nums[j])\n",
    "            stack.append(i)\n",
    "        for i in stack:\n",
    "            rewards[i] = nums[i]\n",
    "        return rewards \n",
    "\n",
    "    nums = [2, 10, 3]\n",
    "    \n",
    "    def getBonus_n(self, nums):\n",
    "        n = len(nums)\n",
    "        rewards = [0] * n\n",
    "        for i in range(n):\n",
    "            for j in range(i+1, n):\n",
    "                if nums[j] > nums[i]:\n",
    "                    rewards[i] = (nums[j] - nums[i]) * (j - i)\n",
    "                    break\n",
    "            else:\n",
    "                rewards[i] = nums[i]\n",
    "        return rewards\n",
    "\n",
    "Solution().getBonus(nums)"
   ]
  },
  {
   "cell_type": "code",
   "execution_count": 20,
   "metadata": {},
   "outputs": [
    {
     "name": "stdout",
     "output_type": "stream",
     "text": [
      "All test cases passed\n"
     ]
    }
   ],
   "source": [
    "import unittest\n",
    "\n",
    "class Tests(unittest.TestCase):\n",
    "    def tests(self):\n",
    "        test_cases = [\n",
    "            ([2, 10, 3], [8, 10, 3]),\n",
    "            ([3,2,5,1,4], [4,3,5,3,4]),\n",
    "            ([4,5,2,1,6,9], [1,3,8,5,3,9]),\n",
    "            ([1,2,3,4,5],[1,1,1,1,5]),\n",
    "            ([5,4,3,2,1],[5,4,3,2,1]),\n",
    "            ([2,3,2,2],[1,3,2,2]),\n",
    "            ([1],[1]),\n",
    "            ]\n",
    "        s = Solution()\n",
    "        method_list = [attribute for attribute in dir(s) if callable(getattr(s, attribute)) and attribute.startswith('__') is False]\n",
    "        for nums, expected_output in test_cases:\n",
    "            with self.subTest(nums=nums):\n",
    "                for method in method_list:\n",
    "                    self.assertEqual(getattr(s, method)(nums), expected_output, f\"Failed for input {nums} for {method}\")\n",
    "        print(\"All test cases passed\")\n",
    "        \n",
    "Tests().tests()\n"
   ]
  }
 ],
 "metadata": {
  "kernelspec": {
   "display_name": "base",
   "language": "python",
   "name": "python3"
  },
  "language_info": {
   "codemirror_mode": {
    "name": "ipython",
    "version": 3
   },
   "file_extension": ".py",
   "mimetype": "text/x-python",
   "name": "python",
   "nbconvert_exporter": "python",
   "pygments_lexer": "ipython3",
   "version": "3.9.12"
  },
  "orig_nbformat": 4,
  "vscode": {
   "interpreter": {
    "hash": "841e27f2a14d44ccd92f4291012cb59f687474acc5b2dafa531afbd4ea5b7136"
   }
  }
 },
 "nbformat": 4,
 "nbformat_minor": 2
}

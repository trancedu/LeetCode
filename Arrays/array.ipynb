{
 "cells": [
  {
   "cell_type": "code",
   "execution_count": 1,
   "metadata": {},
   "outputs": [],
   "source": [
    "from collections import *"
   ]
  },
  {
   "cell_type": "code",
   "execution_count": 31,
   "metadata": {},
   "outputs": [],
   "source": [
    "def maxk(nums, k, x):\n",
    "    n = len(nums)\n",
    "    if n <= k:\n",
    "        return max(nums) + x\n",
    "    \n",
    "    d = defaultdict(list)\n",
    "    for i, num in enumerate(nums):\n",
    "        d[i % k].append(num)\n",
    "    \n",
    "\n",
    "    for key in d:\n",
    "        s = sum(d[key])\n",
    "        l = len(d[key])\n",
    "        m = max(d[key])\n",
    "        x -= m * l - s\n",
    "        if x < 0:\n",
    "            return -1\n",
    "        d[key] = l * [m]\n",
    "    \n",
    "    \n",
    "    r = n % k \n",
    "    u = n // k\n",
    "    # 找到长度为u的\n",
    "    v_u = max([d[key][0] for key in d if len(d[key]) == u])\n",
    "    if r == 0: # 如果刚好整除，就返回\n",
    "        return v_u + x // u\n",
    "    # 如果不整除，找到u+1个的\n",
    "    v_u1 = max([d[key][0] for key in d if len(d[key]) == u+1])\n",
    "\n",
    "    # 将x减到0，分配给长度为u和u+1的数字\n",
    "    max_num = -float(\"inf\")\n",
    "    while x >= 0:\n",
    "        if x % (u+1) == 0: # 一旦能整除u+1，更新包含u+1的最大值\n",
    "            max_num = max(max_num, x // (u+1) + v_u1, v_u)\n",
    "        x -= u # 更新x和包含u个数的最大值\n",
    "        v_u += 1    \n",
    "    \n",
    "    return max(-1,max_num) # 返回-1和max_num中的最大值\n",
    "        \n",
    "            \n",
    "    "
   ]
  },
  {
   "cell_type": "code",
   "execution_count": 52,
   "metadata": {},
   "outputs": [
    {
     "data": {
      "text/plain": [
       "5"
      ]
     },
     "execution_count": 52,
     "metadata": {},
     "output_type": "execute_result"
    }
   ],
   "source": [
    "maxk([1,2,3,1,2,3,1],3,7)"
   ]
  },
  {
   "cell_type": "code",
   "execution_count": 53,
   "metadata": {},
   "outputs": [
    {
     "data": {
      "text/plain": [
       "7"
      ]
     },
     "execution_count": 53,
     "metadata": {},
     "output_type": "execute_result"
    }
   ],
   "source": [
    "maxk([1,2,3,4,5],3,10)"
   ]
  },
  {
   "cell_type": "code",
   "execution_count": 50,
   "metadata": {},
   "outputs": [],
   "source": [
    "def maxk(nums, k, x):\n",
    "    d = defaultdict(list)\n",
    "    for i in range(k):\n",
    "        d[i] = nums[i::k]\n",
    "    \n",
    "    n = len(nums)\n",
    "    for key in d:\n",
    "        m = max(d[key])\n",
    "        s = sum(d[key])\n",
    "        l = len(d[key])\n",
    "        x -= m * l - s \n",
    "        if x < 0:\n",
    "            return -1\n",
    "        d[key] = [m] * l \n",
    "    \n",
    "    \n",
    "    p, q = n // k, n % k \n",
    "    z = max(d[key][0] for key in d if len(d[key]) == p)\n",
    "    if q == 0:\n",
    "        if x % p == 0:\n",
    "            return x // p + z \n",
    "        else:\n",
    "            return -1\n",
    "    z1 = max(d[key][0] for key in d if len(d[key]) == p + 1)\n",
    "    cnt_num = -float(\"inf\")\n",
    "    for i in range(x // p + 1):\n",
    "        res = x - i * p\n",
    "        if res % (p + 1) == 0:\n",
    "            cnt_num = max(cnt_num, res // (p + 1) + z1, i + z)\n",
    "        \n",
    "    return max(cnt_num, -1)\n",
    "            \n",
    "            \n",
    "\n",
    "        "
   ]
  },
  {
   "cell_type": "code",
   "execution_count": 51,
   "metadata": {},
   "outputs": [
    {
     "data": {
      "text/plain": [
       "7"
      ]
     },
     "execution_count": 51,
     "metadata": {},
     "output_type": "execute_result"
    }
   ],
   "source": [
    "maxk([1,2,3,4,5],3,10)"
   ]
  },
  {
   "cell_type": "code",
   "execution_count": 58,
   "metadata": {},
   "outputs": [
    {
     "data": {
      "text/plain": [
       "9"
      ]
     },
     "execution_count": 58,
     "metadata": {},
     "output_type": "execute_result"
    }
   ],
   "source": [
    "maxk([1,2,3,4,5],3,12)"
   ]
  },
  {
   "cell_type": "code",
   "execution_count": 64,
   "metadata": {},
   "outputs": [
    {
     "data": {
      "text/plain": [
       "97"
      ]
     },
     "execution_count": 64,
     "metadata": {},
     "output_type": "execute_result"
    }
   ],
   "source": [
    "ord('a')"
   ]
  }
 ],
 "metadata": {
  "kernelspec": {
   "display_name": "base",
   "language": "python",
   "name": "python3"
  },
  "language_info": {
   "codemirror_mode": {
    "name": "ipython",
    "version": 3
   },
   "file_extension": ".py",
   "mimetype": "text/x-python",
   "name": "python",
   "nbconvert_exporter": "python",
   "pygments_lexer": "ipython3",
   "version": "3.9.12"
  },
  "orig_nbformat": 4,
  "vscode": {
   "interpreter": {
    "hash": "841e27f2a14d44ccd92f4291012cb59f687474acc5b2dafa531afbd4ea5b7136"
   }
  }
 },
 "nbformat": 4,
 "nbformat_minor": 2
}

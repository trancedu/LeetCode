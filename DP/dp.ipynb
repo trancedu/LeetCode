{
 "cells": [
  {
   "cell_type": "code",
   "execution_count": 1,
   "metadata": {},
   "outputs": [],
   "source": [
    "from collections import *\n",
    "from typing import List\n",
    "import functools\n",
    "import random\n",
    "import numpy as np"
   ]
  },
  {
   "attachments": {},
   "cell_type": "markdown",
   "metadata": {},
   "source": [
    "# 步骤\n",
    "1. 思考如何转换，如果是两个字符匹配，可以逐步匹配 dp[i][j] 表示 s[:i]和p[:j]；或者是否可以用背包，从前往后推\n",
    "2. 初始化数组，思考是否需要+1个\n",
    "3. 初始化第一个元素或者行列，往往和其他的不一样\n",
    "4. 状态转移方程\n",
    "5. 获得最后一个元素作为答案  "
   ]
  },
  {
   "attachments": {},
   "cell_type": "markdown",
   "metadata": {},
   "source": [
    "# 常见错误\n",
    "1. for i in range(1, n+1) 要记得+1, [0] * (W + 1)\n",
    "2. 一般dp[i][j]都是前i个，不包括i,j，那样的话range都要从1到n+1\n",
    "3. 初始条件往往不一样，一定要初始化"
   ]
  },
  {
   "attachments": {},
   "cell_type": "markdown",
   "metadata": {},
   "source": [
    "120. \n",
    "Triangle\n",
    "Given a triangle array, return the minimum path sum from top to bottom.\n",
    "\n",
    "For each step, you may move to an adjacent number of the row below. More formally, if you are on index i on the current row, you may move to either index i or index i + 1 on the next row.\n",
    "\n",
    " \n",
    "\n",
    "Example 1:\n",
    "\n",
    "Input: triangle = [[2],[3,4],[6,5,7],[4,1,8,3]]\n",
    "Output: 11\n",
    "Explanation: The triangle looks like:\n",
    "   2\n",
    "  3 4\n",
    " 6 5 7\n",
    "4 1 8 3\n",
    "The minimum path sum from top to bottom is 2 + 3 + 5 + 1 = 11 (underlined above).\n",
    "Example 2:\n",
    "\n",
    "Input: triangle = [[-10]]\n",
    "Output: -10"
   ]
  },
  {
   "cell_type": "code",
   "execution_count": 2,
   "metadata": {},
   "outputs": [],
   "source": [
    "class Solution:\n",
    "    def minimumTotal(self, triangle: List[List[int]]) -> int:\n",
    "        return self.DP_2(triangle)\n",
    "\n",
    "    def DP_1(self, triangle):\n",
    "        \"\"\"\n",
    "        从少到多有边界问题，从多到少有剩余问题\n",
    "        \"\"\"\n",
    "        n = len(triangle)\n",
    "        dp = triangle[-1]\n",
    "        for i in range(n-2, -1, -1):\n",
    "            for j in range(i + 1):\n",
    "                dp[j] = min(dp[j], dp[j+1]) + triangle[i][j]\n",
    "        return dp[0]\n",
    "\n",
    "    def DP_2(self, triangle):\n",
    "        n = len(triangle)\n",
    "        dp = [0] * n \n",
    "        dp[0] = triangle[0][0]\n",
    "        for i in range(1, n):\n",
    "            dp[i] = dp[i-1] + triangle[i][i]\n",
    "            for j in range(i-1, 0, -1):\n",
    "                dp[j] = min(dp[j-1], dp[j]) + triangle[i][j]\n",
    "            dp[0] += triangle[i][0]\n",
    "            # print(dp)\n",
    "        return min(dp)\n",
    "\n",
    "    def DP_n(self, triangle):\n",
    "        n = len(triangle)\n",
    "        for i in range(n):\n",
    "            for j in range(i+1):\n",
    "                if i > 0:\n",
    "                    if j == 0:\n",
    "                        triangle[i][j] += triangle[i-1][j]\n",
    "                    elif j == i:\n",
    "                        triangle[i][j] += triangle[i-1][j-1]\n",
    "                    else:\n",
    "                        triangle[i][j] += min(triangle[i-1][j-1], triangle[i-1][j])\n",
    "        return min(triangle[-1])\n",
    "\n",
    "    def dfs(self, triangle):\n",
    "        n = len(triangle)\n",
    "        min_path = float(\"inf\")\n",
    "        def dfs(i, j, s):\n",
    "            if i == n:\n",
    "                nonlocal min_path\n",
    "                min_path = min(min_path, s)\n",
    "                return \n",
    "            for x in [j, j + 1]:\n",
    "                if 0 <= x < i + 1:\n",
    "                    dfs(i + 1, x, s + triangle[i][x])\n",
    "        dfs(0, 0, 0)\n",
    "        return min_path\n",
    "\n",
    "\n",
    "\n"
   ]
  },
  {
   "cell_type": "code",
   "execution_count": 3,
   "metadata": {},
   "outputs": [
    {
     "data": {
      "text/plain": [
       "11"
      ]
     },
     "execution_count": 3,
     "metadata": {},
     "output_type": "execute_result"
    }
   ],
   "source": [
    "triangle = [[2],[3,4],[6,5,7],[4,1,8,3]]\n",
    "Solution().minimumTotal(triangle)"
   ]
  },
  {
   "attachments": {},
   "cell_type": "markdown",
   "metadata": {},
   "source": [
    "# 背包问题"
   ]
  },
  {
   "attachments": {},
   "cell_type": "markdown",
   "metadata": {},
   "source": [
    "## 01 背包"
   ]
  },
  {
   "attachments": {},
   "cell_type": "markdown",
   "metadata": {},
   "source": [
    "最基本的背包问题就是01背包问题（01 knapsack problem）：一共有N件物品，第i（i从1开始）件物品的重量为w[i]，价值为v[i]。在总重量不超过背包承载上限W的情况下，能够装入背包的最大价值是多少？"
   ]
  },
  {
   "cell_type": "code",
   "execution_count": 34,
   "metadata": {},
   "outputs": [],
   "source": [
    "class Solution:\n",
    "    def calculateMaxValue01(self, weights, values, W):\n",
    "        return self.DP_1(weights, values, W)\n",
    "        # return self.DP_n(weights, values, W)\n",
    "        \n",
    "    def DP_n(self, weights, values, W):\n",
    "        n = len(weights)\n",
    "        dp = [[0] * (W+1) for _ in range(n)]\n",
    "        # dp[i][W] means the maximum value of putting 0,1,..,i into the bag that weighs W\n",
    "\n",
    "        for i in range(n):\n",
    "            for w in range(W+1):\n",
    "                # 这里反正最后一行也是0，所以不用管，最好还是管一下\n",
    "                dp[i][w] = dp[i-1][w] # 先更新为之前的，再更新为新的，这样确保正确\n",
    "                if w >= weights[i]:\n",
    "                    dp[i][w] = max(dp[i][w], dp[i-1][w-weights[i]] + values[i])\n",
    "                \n",
    "        return dp[-1][W]\n",
    "    \n",
    "    def DP_1(self, weights, values, W):\n",
    "        n = len(weights)\n",
    "        dp = [0] * (W + 1)\n",
    "        \n",
    "        for i in range(n):\n",
    "            for w in range(W, -1, -1):\n",
    "                if w >= weights[i]:\n",
    "                    dp[w] = max(dp[w], dp[w-weights[i]] + values[i]) \n",
    "        return dp[W]\n",
    "    \n",
    "    \n",
    "    def DP_1_path(self, weights, values, W):\n",
    "        n = len(weights)\n",
    "        dp = [0] * (W + 1)\n",
    "        paths = [[0] * (W+1) for _ in range(n)]\n",
    "        items = [[-1] * (W+1) for _ in range(n)]\n",
    "        for i in range(n):\n",
    "            for w in range(W, weights[i]-1, -1):\n",
    "                if dp[w] < dp[w-weights[i]] + values[i]:\n",
    "                    dp[w] = dp[w-weights[i]] + values[i]\n",
    "                    paths[i][w] = weights[i]\n",
    "                    items[i][w] = i \n",
    "                    \n",
    "        result = []\n",
    "        w = W \n",
    "        for i in range(n-1, -1, -1):\n",
    "            weight = paths[i][w]\n",
    "            if weight != 0:\n",
    "                result.append(weight)\n",
    "            w -= weight\n",
    "        print(result[::-1])\n",
    "        \n",
    "        item = []\n",
    "        w = W \n",
    "        for i in range(n-1, -1, -1):\n",
    "            p = items[i][w]\n",
    "            if p != -1:\n",
    "                item.append(i)\n",
    "                weight = weights[p]\n",
    "                w -= weight \n",
    "        print(item[::-1])\n",
    "            \n",
    "        \n",
    "                \n",
    "                "
   ]
  },
  {
   "cell_type": "code",
   "execution_count": 36,
   "metadata": {},
   "outputs": [
    {
     "name": "stdout",
     "output_type": "stream",
     "text": [
      "[1, 3, 4, 7]\n",
      "[0, 1, 3, 4]\n"
     ]
    }
   ],
   "source": [
    "weights = [1,3,5,4,7,9]\n",
    "values = [2,5,3,6,7,3]\n",
    "W = 18\n",
    "# weights = [1,2,3]\n",
    "# values = [1,2,3]\n",
    "# W = 5\n",
    "Solution().DP_1_path(weights, values, W)"
   ]
  },
  {
   "cell_type": "code",
   "execution_count": 23,
   "metadata": {},
   "outputs": [],
   "source": [
    "class Solution:\n",
    "    def calculateMaxValue01(self, weights, values, W):\n",
    "        n = len(weights)\n",
    "        dp = [0] * (W + 1)\n",
    "        for i in range(n):\n",
    "            for w in range(W, weights[i] - 1, -1): # remember -1\n",
    "                dp[w] = max(dp[w], dp[w-weights[i]] + values[i])\n",
    "\n",
    "        return dp[W]"
   ]
  },
  {
   "cell_type": "code",
   "execution_count": 24,
   "metadata": {},
   "outputs": [],
   "source": [
    "weights = [1,3,5,4,7,9]\n",
    "values = [2,5,3,6,7,3]\n",
    "W = 18"
   ]
  },
  {
   "cell_type": "code",
   "execution_count": 25,
   "metadata": {},
   "outputs": [
    {
     "name": "stdout",
     "output_type": "stream",
     "text": [
      "20\n",
      "20\n"
     ]
    }
   ],
   "source": [
    "print(Solution().calculateMaxValue01(weights, values, W))\n",
    "print(Solution().calculateMaxValue01(weights, values, W))"
   ]
  },
  {
   "attachments": {},
   "cell_type": "markdown",
   "metadata": {},
   "source": [
    "## 完全背包"
   ]
  },
  {
   "cell_type": "code",
   "execution_count": 51,
   "metadata": {},
   "outputs": [],
   "source": [
    "class Solution:\n",
    "    def calculateMaxValueN(self, weights, values, W):\n",
    "        return self.DP_1(weights, values, W)\n",
    "        # return self.DP_n(weights, values, W)\n",
    "        \n",
    "    def DP_n(self, weights, values, W):\n",
    "        n = len(weights)\n",
    "        dp = [[0] * (W + 1) for _ in range(n)]\n",
    "        for i in range(n):\n",
    "            for w in range(W+1):\n",
    "                dp[i][w] = dp[i-1][w]\n",
    "                if w >= weights[i]:\n",
    "                    dp[i][w] = max(dp[i][w], dp[i][w-weights[i]] + values[i])\n",
    "        return dp[-1][W]\n",
    "    \n",
    "    def DP_1(self, weights, values, W):\n",
    "        n = len(weights)\n",
    "        dp = [0] * (W + 1)\n",
    "        \n",
    "        for i in range(n):\n",
    "            for w in range(W+1):\n",
    "                if w >= weights[i]:\n",
    "                    # 这里是w不是i，易错\n",
    "                    dp[w] = max(dp[w], dp[w-weights[i]] + values[i]) \n",
    "        return dp[W]\n",
    "                    \n",
    "    def DP_k(self, weights, values, W):\n",
    "        n = len(weights)\n",
    "        dp = [0] * (W + 1)\n",
    "        for i in range(n):\n",
    "            for w in range(W, -1, -1):\n",
    "                dp[w] = max(dp[w - k * weights[i]] + k * values[i] for k in range(w // weights[i] + 1))\n",
    "        return dp[W]"
   ]
  },
  {
   "cell_type": "code",
   "execution_count": 58,
   "metadata": {},
   "outputs": [],
   "source": [
    "class Solution:\n",
    "    def calculateMaxValueN(self, weights, values, W):\n",
    "        n = len(weights)\n",
    "        dp = [0] * (W + 1)\n",
    "        for i in range(n):\n",
    "            for w in range(weights[i], W + 1):\n",
    "                dp[w] = max(dp[w], dp[w - weights[i]] + values[i])\n",
    "        return dp[W]\n",
    "    \n",
    "    def calculateMaxValueN_path(self, weights, values, W):\n",
    "        n = len(weights)\n",
    "        dp = [0] * (W + 1)\n",
    "        items = [-1] * (W + 1)\n",
    "        for i in range(n):\n",
    "            for w in range(weights[i], W + 1):\n",
    "                new_value = dp[w - weights[i]] + values[i]\n",
    "                if new_value > dp[w]:\n",
    "                    dp[w] = new_value \n",
    "                    items[w] = i \n",
    "        \n",
    "        item = []\n",
    "        w = W \n",
    "        while w > 0:\n",
    "            p = items[w]\n",
    "            if p != -1:\n",
    "                item.append(p)\n",
    "                weight = weights[p]\n",
    "                w -= weight \n",
    "        print(item[::-1])\n",
    "        return dp[W]"
   ]
  },
  {
   "cell_type": "code",
   "execution_count": 68,
   "metadata": {},
   "outputs": [
    {
     "name": "stdout",
     "output_type": "stream",
     "text": [
      "[1, 3]\n",
      "11\n"
     ]
    }
   ],
   "source": [
    "# print(Solution().DP_n(weights, values, W))\n",
    "# print(Solution().DP_1(weights, values, W))\n",
    "# print(Solution().DP_k(weights, values, W))\n",
    "\n",
    "weights = [1,3,4,5]\n",
    "values = [1,4,5,7]\n",
    "W = 8\n",
    "print(Solution().calculateMaxValueN_path(weights, values, W))"
   ]
  },
  {
   "attachments": {},
   "cell_type": "markdown",
   "metadata": {},
   "source": [
    "## 多维度背包"
   ]
  },
  {
   "attachments": {},
   "cell_type": "markdown",
   "metadata": {},
   "source": [
    "### 如果不能同时发射"
   ]
  },
  {
   "cell_type": "code",
   "execution_count": 26,
   "metadata": {},
   "outputs": [],
   "source": [
    "def maxHarm(n, M, T, attacks):\n",
    "    dp = [[0] * (T + 1) for _ in range(M + 1)]\n",
    "    for i in range(n):\n",
    "        hi, mi, ti = attacks[i]\n",
    "        for m in range(mi, M+1):\n",
    "            for t in range(ti, T+1):\n",
    "                dp[m][t] = max(dp[m][t], dp[m-mi][t-ti] + hi)\n",
    "    return dp[-1][-1]"
   ]
  },
  {
   "cell_type": "code",
   "execution_count": 27,
   "metadata": {},
   "outputs": [
    {
     "data": {
      "text/plain": [
       "100"
      ]
     },
     "execution_count": 27,
     "metadata": {},
     "output_type": "execute_result"
    }
   ],
   "source": [
    "attacks = [\n",
    "    [10, 8, 5],\n",
    "    [5, 2, 1],\n",
    "    [20, 25, 8]\n",
    "]\n",
    "n = len(attacks)\n",
    "M = 100\n",
    "T = 20\n",
    "maxHarm(n, M, T, attacks)"
   ]
  },
  {
   "cell_type": "markdown",
   "metadata": {},
   "source": [
    "# 多重背包"
   ]
  },
  {
   "cell_type": "code",
   "execution_count": 22,
   "metadata": {},
   "outputs": [],
   "source": [
    "def maxHarm(n, M, T, attacks):\n",
    "    dp = [0] * (M+1)\n",
    "    for i in range(n):\n",
    "        hi, mi, ti = attacks[i]\n",
    "        for m in range(M, -1, -1):\n",
    "            dp[m] = max(dp[m - k * mi] + k * hi for k in range(min(m // mi + 1, T // ti + 1)))\n",
    "    return dp[-1]"
   ]
  },
  {
   "cell_type": "code",
   "execution_count": 23,
   "metadata": {},
   "outputs": [
    {
     "data": {
      "text/plain": [
       "160"
      ]
     },
     "execution_count": 23,
     "metadata": {},
     "output_type": "execute_result"
    }
   ],
   "source": [
    "attacks = [\n",
    "    [10, 8, 5],\n",
    "    [5, 2, 1],\n",
    "    [20, 25, 8]\n",
    "]\n",
    "n = len(attacks)\n",
    "M = 100\n",
    "T = 20\n",
    "maxHarm(n, M, T, attacks)"
   ]
  },
  {
   "cell_type": "code",
   "execution_count": 12,
   "metadata": {},
   "outputs": [
    {
     "name": "stdout",
     "output_type": "stream",
     "text": [
      "160\n"
     ]
    }
   ],
   "source": [
    "# n, m, T = map(int, input().split())\n",
    "# A, B, C = [], [], []\n",
    "# for i in range(n):\n",
    "#     a, b, c = map(int, input().split())\n",
    "#     A.append(a)\n",
    "#     B.append(b)\n",
    "#     C.append(c)\n",
    "n, m, T = n, M, T \n",
    "A = [attacks[j][0] for j in range(len(attacks))]\n",
    "B = [attacks[j][1] for j in range(len(attacks))]\n",
    "C = [attacks[j][2] for j in range(len(attacks))]\n",
    "dp = [0]*(m+1)  # dp初始化为0\n",
    "for i in range(n):  # 枚举大炮\n",
    "    for j in range(m, -1, -1):  # 倒序遍历使得一个大炮不能重复更新\n",
    "        mx = min((m-j)//B[i], T//C[i])  # 计算当前的大炮最多发射几下\n",
    "        for k in range(1, mx+1):  # 枚举当前的第i门大炮发射几下\n",
    "            dp[j+k*B[i]] = max(dp[j+k*B[i]], dp[j]+k*A[i])\n",
    "print(max(dp))"
   ]
  },
  {
   "attachments": {},
   "cell_type": "markdown",
   "metadata": {},
   "source": [
    "416. \n",
    "Partition Equal Subset Sum\n",
    "Given an integer array nums, return true if you can partition the array into two subsets such that the sum of the elements in both subsets is equal or false otherwise.\n",
    "\n",
    " \n",
    "\n",
    "Example 1:\n",
    "\n",
    "Input: nums = [1,5,11,5]\n",
    "Output: true\n",
    "Explanation: The array can be partitioned as [1, 5, 5] and [11].\n",
    "Example 2:\n",
    "\n",
    "Input: nums = [1,2,3,5]\n",
    "Output: false\n",
    "Explanation: The array cannot be partitioned into equal sum subsets."
   ]
  },
  {
   "cell_type": "code",
   "execution_count": 69,
   "metadata": {},
   "outputs": [],
   "source": [
    "class Solution:\n",
    "    def canPartition(self, nums: List[int]) -> bool:\n",
    "        s = sum(nums)\n",
    "        if s % 2 == 1:\n",
    "            return False \n",
    "        \n",
    "        W = s // 2\n",
    "        n = len(nums)\n",
    "        # nums.sort()\n",
    "        dp = [0] * (W + 1)\n",
    "        for i in range(n):\n",
    "            if dp[W] == W:\n",
    "                return True \n",
    "            for w in range(W, -1, -1):\n",
    "                if w >= nums[i]:\n",
    "                    dp[w] = max(dp[w], dp[w-nums[i]] + nums[i])\n",
    "\n",
    "        return False \n",
    "    \n",
    "    def DP1(self, nums):\n",
    "        s = sum(nums)\n",
    "        if s % 2 == 1:\n",
    "            return False \n",
    "        \n",
    "        W = s // 2\n",
    "        n = len(nums)\n",
    "        dp = [-float(\"inf\")] * (W + 1) # 一定要是装满的时候，才会加上前面的\n",
    "        dp[0] = 0\n",
    "        for i in range(n):\n",
    "            for w in range(W, nums[i] - 1, -1): # 可以限制到nums[i] - 1\n",
    "                dp[w] = max(dp[w], dp[w-nums[i]] + nums[i])\n",
    "        return dp[W] == W\n",
    "        \n",
    "\n",
    "    def DPbool(self, nums):\n",
    "        s = sum(nums)\n",
    "        if s % 2 == 1:\n",
    "            return False \n",
    "        \n",
    "        W = s // 2\n",
    "        n = len(nums)\n",
    "        dp = [False] * (W + 1) # 一定要是装满的时候，才会加上前面的\n",
    "        dp[0] = True\n",
    "        for i in range(n):\n",
    "            for w in range(W, nums[i] - 1, -1): # 可以限制到nums[i] - 1\n",
    "                # dp[w] = max(dp[w], dp[w-nums[i]] + nums[i])\n",
    "                dp[w] = dp[w] or dp[w-nums[i]]\n",
    "        return dp[W]\n",
    "        "
   ]
  },
  {
   "cell_type": "code",
   "execution_count": 70,
   "metadata": {},
   "outputs": [
    {
     "data": {
      "text/plain": [
       "True"
      ]
     },
     "execution_count": 70,
     "metadata": {},
     "output_type": "execute_result"
    }
   ],
   "source": [
    "nums = [1,5,11,5]\n",
    "Solution().DP1(nums)"
   ]
  },
  {
   "attachments": {},
   "cell_type": "markdown",
   "metadata": {},
   "source": [
    "322. \n",
    "Coin Change\n",
    "You are given an integer array coins representing coins of different denominations and an integer amount representing a total amount of money.\n",
    "\n",
    "Return the fewest number of coins that you need to make up that amount. If that amount of money cannot be made up by any combination of the coins, return -1.\n",
    "\n",
    "You may assume that you have an infinite number of each kind of coin.\n",
    "\n",
    " \n",
    "\n",
    "Example 1:\n",
    "\n",
    "Input: coins = [1,2,5], amount = 11\n",
    "Output: 3\n",
    "Explanation: 11 = 5 + 5 + 1\n",
    "Example 2:\n",
    "\n",
    "Input: coins = [2], amount = 3\n",
    "Output: -1\n",
    "Example 3:\n",
    "\n",
    "Input: coins = [1], amount = 0\n",
    "Output: 0"
   ]
  },
  {
   "cell_type": "code",
   "execution_count": 39,
   "metadata": {},
   "outputs": [],
   "source": [
    "class Solution:\n",
    "    def coinChange(self, coins: List[int], amount: int) -> int:\n",
    "        return self.BFS(coins, amount)\n",
    "\n",
    "    def BFS(self, coins, amount):\n",
    "        coins = sorted(coins, reverse=True)\n",
    "        queue = deque([0])\n",
    "        step = 0\n",
    "        if amount == 0: return 0\n",
    "        visited = set() # Use set to store visited\n",
    "        while queue:\n",
    "            step += 1\n",
    "            for _ in range(len(queue)):\n",
    "                money = queue.popleft()\n",
    "                for coin in coins:\n",
    "                    new_money = money + coin \n",
    "                    if new_money in visited: # the new variable whether it has been visited\n",
    "                        continue \n",
    "                    visited.add(new_money)\n",
    "                    if new_money > amount:\n",
    "                        continue\n",
    "                    if new_money == amount:\n",
    "                        return step \n",
    "                    \n",
    "                    queue.append(new_money)\n",
    "        return -1\n",
    "\n",
    "\n",
    "\n",
    "    def DP(self, coins, amount):\n",
    "        W = amount \n",
    "        n = len(coins)\n",
    "        dp = [float(\"inf\")] * (W + 1)\n",
    "        dp[0] = 0 \n",
    "\n",
    "        for i in range(n):\n",
    "            for w in range(coins[i], W + 1):\n",
    "                dp[w] = min(dp[w], dp[w - coins[i]] + 1)\n",
    "        \n",
    "        # print(dp)\n",
    "        if dp[W] == float(\"inf\"):\n",
    "            return -1\n",
    "        return dp[W]\n",
    "    \n",
    "    def DP230211(self, coins, amount):\n",
    "        n = len(coins)\n",
    "        W = amount \n",
    "        dp = [float(\"inf\")] * (W + 1)\n",
    "        dp[0] = 0\n",
    "        for i in range(n):\n",
    "            for w in range(coins[i], W+1):\n",
    "                dp[w] = min(dp[w], dp[w-coins[i]] + 1)\n",
    "        if dp[W] == float(\"inf\"):\n",
    "            return -1\n",
    "        return dp[W]\n",
    "    \n",
    "    \n",
    "    def MemorySearch(self, coins, amount):\n",
    "        n = len(coins)\n",
    "        coins.sort()\n",
    "        \n",
    "        @functools.cache\n",
    "        def search(m):\n",
    "            if m == 0:\n",
    "                return 0\n",
    "            \n",
    "            res = [float(\"inf\")]\n",
    "            for c in coins:\n",
    "                if m < c:\n",
    "                    break \n",
    "                res.append(1 + search(m-c))\n",
    "            \n",
    "            return min(res)\n",
    "        \n",
    "        \n",
    "        return search(amount)      \n",
    "                \n",
    "            \n",
    "        "
   ]
  },
  {
   "cell_type": "code",
   "execution_count": 51,
   "metadata": {},
   "outputs": [],
   "source": [
    "coins = [1,2,5]\n",
    "amount = 100\n"
   ]
  },
  {
   "cell_type": "code",
   "execution_count": 52,
   "metadata": {},
   "outputs": [
    {
     "name": "stdout",
     "output_type": "stream",
     "text": [
      "45.3 µs ± 6.56 µs per loop (mean ± std. dev. of 7 runs, 100 loops each)\n"
     ]
    }
   ],
   "source": [
    "%%timeit -n 100\n",
    "Solution().BFS(coins, amount)"
   ]
  },
  {
   "cell_type": "code",
   "execution_count": 53,
   "metadata": {},
   "outputs": [
    {
     "name": "stdout",
     "output_type": "stream",
     "text": [
      "53.5 µs ± 12 µs per loop (mean ± std. dev. of 7 runs, 100 loops each)\n"
     ]
    }
   ],
   "source": [
    "%%timeit -n 100\n",
    "Solution().DP230211(coins, amount)"
   ]
  },
  {
   "cell_type": "code",
   "execution_count": 54,
   "metadata": {},
   "outputs": [
    {
     "name": "stdout",
     "output_type": "stream",
     "text": [
      "79.5 µs ± 1.93 µs per loop (mean ± std. dev. of 7 runs, 100 loops each)\n"
     ]
    }
   ],
   "source": [
    "%%timeit -n 100\n",
    "Solution().MemorySearch(coins, amount)"
   ]
  },
  {
   "attachments": {},
   "cell_type": "markdown",
   "metadata": {},
   "source": [
    "518. Coin Change II\n",
    "\n",
    "You are given an integer array coins representing coins of different denominations and an integer amount representing a total amount of money.\n",
    "\n",
    "Return the number of combinations that make up that amount. If that amount of money cannot be made up by any combination of the coins, return 0.\n",
    "\n",
    "You may assume that you have an infinite number of each kind of coin.\n",
    "\n",
    "The answer is guaranteed to fit into a signed 32-bit integer.\n",
    "\n",
    " \n",
    "\n",
    "Example 1:\n",
    "\n",
    "Input: amount = 5, coins = [1,2,5]\n",
    "Output: 4\n",
    "Explanation: there are four ways to make up the amount:\n",
    "5=5\n",
    "5=2+2+1\n",
    "5=2+1+1+1\n",
    "5=1+1+1+1+1\n",
    "Example 2:\n",
    "\n",
    "Input: amount = 3, coins = [2]\n",
    "Output: 0\n",
    "Explanation: the amount of 3 cannot be made up just with coins of 2.\n",
    "Example 3:\n",
    "\n",
    "Input: amount = 10, coins = [10]\n",
    "Output: 1"
   ]
  },
  {
   "cell_type": "code",
   "execution_count": 76,
   "metadata": {},
   "outputs": [],
   "source": [
    "class Solution:\n",
    "    def change(self, amount: int, coins: List[int]) -> int:\n",
    "        return self.DP(amount, coins)\n",
    "\n",
    "    def DP(self, amount, coins):\n",
    "        n = len(coins)\n",
    "        W = amount \n",
    "        dp = [0] * (W + 1)\n",
    "        dp[0] = 1\n",
    "        for i in range(n):\n",
    "            for w in range(coins[i], W+1):\n",
    "                dp[w] += dp[w-coins[i]]\n",
    "            # print(dp)\n",
    "        \n",
    "        return dp[W]"
   ]
  },
  {
   "cell_type": "code",
   "execution_count": 81,
   "metadata": {},
   "outputs": [
    {
     "data": {
      "text/plain": [
       "4"
      ]
     },
     "execution_count": 81,
     "metadata": {},
     "output_type": "execute_result"
    }
   ],
   "source": [
    "coins = [1,2]\n",
    "amount = 7\n",
    "Solution().change(amount, coins)"
   ]
  },
  {
   "attachments": {},
   "cell_type": "markdown",
   "metadata": {},
   "source": [
    "# 空间优化 状态压缩"
   ]
  },
  {
   "attachments": {},
   "cell_type": "markdown",
   "metadata": {},
   "source": [
    "可以在函数里面套函数来做"
   ]
  },
  {
   "attachments": {},
   "cell_type": "markdown",
   "metadata": {},
   "source": [
    "70. \n",
    "Climbing Stairs\n",
    "You are climbing a staircase. It takes n steps to reach the top.\n",
    "\n",
    "Each time you can either climb 1 or 2 steps. In how many distinct ways can you climb to the top?\n",
    "\n",
    " \n",
    "\n",
    "Example 1:\n",
    "\n",
    "Input: n = 2\n",
    "Output: 2\n",
    "Explanation: There are two ways to climb to the top.\n",
    "1. 1 step + 1 step\n",
    "2. 2 steps\n",
    "Example 2:\n",
    "\n",
    "Input: n = 3\n",
    "Output: 3\n",
    "Explanation: There are three ways to climb to the top.\n",
    "1. 1 step + 1 step + 1 step\n",
    "2. 1 step + 2 steps\n",
    "3. 2 steps + 1 step\n",
    " \n",
    "\n",
    "Constraints:\n",
    "\n",
    "1 <= n <= 45"
   ]
  },
  {
   "cell_type": "code",
   "execution_count": 45,
   "metadata": {},
   "outputs": [],
   "source": [
    "class Solution:\n",
    "    def climbStairs(self, n: int) -> int:\n",
    "        # return self.ordered_answer(n)\n",
    "        return self.memory_search(n)\n",
    "        # return self.save_memory(n)\n",
    "\n",
    "    def ordered_answer(self, n):\n",
    "        dp = [0] * (n + 1)\n",
    "        dp[0] = 1\n",
    "        dp[1] = 1\n",
    "        for w in range(2, n + 1):\n",
    "            dp[w] = dp[w - 1] + dp[w - 2]\n",
    "        return dp[n]\n",
    "\n",
    "    def save_memory(self, n):\n",
    "        a = 1\n",
    "        b = 1\n",
    "        c = a\n",
    "        for i in range(n - 1):\n",
    "           a += b\n",
    "           b = c\n",
    "           c = a\n",
    "        return c\n",
    "\n",
    "    def memory_search(self, n):\n",
    "        visited = dict()\n",
    "        visited[0] = 1\n",
    "        visited[1] = 1\n",
    "        def search(x):\n",
    "            if x in visited:\n",
    "                return visited[x]\n",
    "            res = search(x-1) + search(x-2)\n",
    "            visited[x] = res \n",
    "            return res \n",
    "        return search(n)\n",
    "\n",
    "\n",
    "\n",
    "    def unordered_answer(self, n):\n",
    "        W = n\n",
    "        values = [1, 2]\n",
    "        dp = [0] * (W + 1)\n",
    "        dp[0] = 1\n",
    "        for i in range(len(values)):\n",
    "            for w in range(values[i], W + 1):\n",
    "                dp[w] += dp[w-values[i]]\n",
    "            print(dp)\n",
    "        return dp[W]\n",
    "    \n",
    "    def optimized_search(self, n):\n",
    "        # dp = [1, 1]\n",
    "        # for _ in range(n - 1): # 举例，上2层，只要运行一次就可以，所以是n-1 \n",
    "        #     temp = dp[1]\n",
    "        #     dp[1] = dp[1] + dp[0]\n",
    "        #     dp[0] = temp \n",
    "        \n",
    "        # return dp[1]\n",
    "        \n",
    "        # dp = [1, 1]\n",
    "        # for _ in range(n - 1):\n",
    "        #     dp[0], dp[1] = dp[1], dp[1] + dp[0]\n",
    "        \n",
    "        # return dp[1]\n",
    "    \n",
    "        l2, l1 = 1, 1\n",
    "        for _ in range(n - 1):\n",
    "            l2, l1 = l1, l1 + l2 \n",
    "        return l1\n",
    "        \n",
    "        \n",
    "            "
   ]
  },
  {
   "cell_type": "code",
   "execution_count": 46,
   "metadata": {},
   "outputs": [
    {
     "name": "stdout",
     "output_type": "stream",
     "text": [
      "8\n",
      "8\n"
     ]
    }
   ],
   "source": [
    "print(Solution().memory_search(5))\n",
    "print(Solution().optimized_search(5))"
   ]
  },
  {
   "attachments": {},
   "cell_type": "markdown",
   "metadata": {},
   "source": [
    "# 记忆化搜索"
   ]
  },
  {
   "attachments": {},
   "cell_type": "markdown",
   "metadata": {},
   "source": [
    "139. Word Break\n",
    "\n",
    "Given a string s and a dictionary of strings wordDict, return true if s can be segmented into a space-separated sequence of one or more dictionary words.\n",
    "\n",
    "Note that the same word in the dictionary may be reused multiple times in the segmentation.\n",
    "\n",
    " \n",
    "\n",
    "Example 1:\n",
    "\n",
    "Input: s = \"leetcode\", wordDict = [\"leet\",\"code\"]\n",
    "Output: true\n",
    "Explanation: Return true because \"leetcode\" can be segmented as \"leet code\".\n",
    "Example 2:\n",
    "\n",
    "Input: s = \"applepenapple\", wordDict = [\"apple\",\"pen\"]\n",
    "Output: true\n",
    "Explanation: Return true because \"applepenapple\" can be segmented as \"apple pen apple\".\n",
    "Note that you are allowed to reuse a dictionary word.\n",
    "Example 3:\n",
    "\n",
    "Input: s = \"catsandog\", wordDict = [\"cats\",\"dog\",\"sand\",\"and\",\"cat\"]\n",
    "Output: false"
   ]
  },
  {
   "cell_type": "code",
   "execution_count": 198,
   "metadata": {},
   "outputs": [],
   "source": [
    "class Solution:\n",
    "    def wordBreak(self, s: str, wordDict: List[str]) -> bool:\n",
    "        ''' \n",
    "        注意index 一定要草稿上写好\n",
    "        dp[i]是前i个，不包括i，因为i是多出来的一个，要考虑零的时候\n",
    "        用if 满足条件，True，否则容易不继承之前的犯错\n",
    "        '''\n",
    "        W = len(s)\n",
    "        dp = [False] * (W + 1)\n",
    "        dp[0] = True \n",
    "        \n",
    "        for w in range(1, W + 1):\n",
    "            for i in range(1, min(w + 1, 21)):\n",
    "                sub = s[w - i: w]\n",
    "                if dp[w - i] and (sub in wordDict):\n",
    "                    dp[w] = True\n",
    "            \n",
    "        return dp[W]\n",
    "    \n",
    "    def dp_bag(self, s, wordDict):\n",
    "        # n = len(s)\n",
    "        W = len(s)\n",
    "        dp = [False] * (W + 1)\n",
    "        dp[0] = True \n",
    "        for w in range(1, W+1): # 这里的不同是不是前面成立这里就会成立的，必须额外满足条件 \n",
    "            for i in range(1, min(W+1, 21)):\n",
    "                if (dp[w - i] and s[w-i:w] in wordDict):\n",
    "                    dp[w] = True\n",
    "                \n",
    "        return dp[W]\n",
    "        \n",
    "    \n",
    "    def backward(self, s, wordDict):\n",
    "        n = len(s)\n",
    "        dp = [False] * (n + 1)\n",
    "        dp[0] = True \n",
    "        \n",
    "        for i in range(n):\n",
    "            for j in range(i+1, n+1):\n",
    "                if s[i:j] in wordDict and dp[i]:\n",
    "                    dp[j] = True \n",
    "        return dp[n]\n",
    "    \n",
    "    def search(self, s, wordDict):\n",
    "        '''\n",
    "        分成两部分，先是前面的部分判断，从最初开始判断\n",
    "        后面的部分再判断\n",
    "        '''\n",
    "        @functools.lru_cache(None)\n",
    "        def backtrack(s):\n",
    "            if not s:\n",
    "                return True \n",
    "            \n",
    "            n = len(s)\n",
    "            for i in range(1, n + 1):\n",
    "                if s[:i] in wordDict and backtrack(s[i:]):\n",
    "                    return True\n",
    "            \n",
    "            return False\n",
    "\n",
    "        return backtrack(s)\n",
    "    \n",
    "    \n",
    "    def search2(self, s, wordDict):\n",
    "        results = []\n",
    "        result = []\n",
    "        @functools.lru_cache(None)\n",
    "        def backtrack(s):\n",
    "            if not s:\n",
    "                results.append(result[:])\n",
    "                return True \n",
    "            for i in range(1, len(s)+1):\n",
    "                if s[:i] in wordDict:\n",
    "                    result.append(s[:i])\n",
    "                    if backtrack(s[i:]):\n",
    "                        return True \n",
    "                    result.pop()\n",
    "            return False \n",
    "        status = backtrack(s)\n",
    "        print(results)\n",
    "        return status\n",
    "        \n",
    "        "
   ]
  },
  {
   "cell_type": "code",
   "execution_count": 199,
   "metadata": {},
   "outputs": [
    {
     "data": {
      "text/plain": [
       "True"
      ]
     },
     "execution_count": 199,
     "metadata": {},
     "output_type": "execute_result"
    }
   ],
   "source": [
    "s = \"applepenapple\"\n",
    "wordDict = [\"apple\",\"pen\"]\n",
    "Solution().search(s, wordDict)"
   ]
  },
  {
   "cell_type": "code",
   "execution_count": 200,
   "metadata": {},
   "outputs": [
    {
     "name": "stdout",
     "output_type": "stream",
     "text": [
      "10.1 µs ± 1.02 µs per loop (mean ± std. dev. of 7 runs, 100 loops each)\n"
     ]
    }
   ],
   "source": [
    "%%timeit -n 100\n",
    "Solution().dp_bag(s, wordDict)"
   ]
  },
  {
   "cell_type": "code",
   "execution_count": 201,
   "metadata": {},
   "outputs": [
    {
     "name": "stdout",
     "output_type": "stream",
     "text": [
      "[['apple', 'pen', 'apple']]\n"
     ]
    },
    {
     "data": {
      "text/plain": [
       "True"
      ]
     },
     "execution_count": 201,
     "metadata": {},
     "output_type": "execute_result"
    }
   ],
   "source": [
    "# %%timeit -n 100\n",
    "Solution().search2(s, wordDict)"
   ]
  },
  {
   "attachments": {},
   "cell_type": "markdown",
   "metadata": {},
   "source": [
    "241. \n",
    "Different Ways to Add Parentheses\n",
    "\n",
    "Given a string expression of numbers and operators, return all possible results from computing all the different possible ways to group numbers and operators. You may return the answer in any order.\n",
    "\n",
    "The test cases are generated such that the output values fit in a 32-bit integer and the number of different results does not exceed 104.\n",
    "\n",
    " \n",
    "\n",
    "Example 1:\n",
    "\n",
    "Input: expression = \"2-1-1\"\n",
    "Output: [0,2]\n",
    "Explanation:\n",
    "((2-1)-1) = 0 \n",
    "(2-(1-1)) = 2\n",
    "Example 2:\n",
    "\n",
    "Input: expression = \"2*3-4*5\"\n",
    "Output: [-34,-14,-10,-10,10]\n",
    "Explanation:\n",
    "(2*(3-(4*5))) = -34 \n",
    "((2*3)-(4*5)) = -14 \n",
    "((2*(3-4))*5) = -10 \n",
    "(2*((3-4)*5)) = -10 \n",
    "(((2*3)-4)*5) = 10\n",
    " \n",
    "\n",
    "Constraints:\n",
    "\n",
    "1 <= expression.length <= 20\n",
    "expression consists of digits and the operator '+', '-', and '*'.\n",
    "All the integer values in the input expression are in the range [0, 99]."
   ]
  },
  {
   "cell_type": "code",
   "execution_count": null,
   "metadata": {},
   "outputs": [],
   "source": [
    "class Solution:\n",
    "    def diffWaysToCompute(self, expression: str) -> List[int]:\n",
    "        ''' \n",
    "        记忆化搜索或者分治法，需要找到合适的分隔，之前是不用分隔符，现在可以用分隔符\n",
    "        '''\n",
    "        s = expression\n",
    "        if len(s) <= 2:\n",
    "            return [int(s)]\n",
    "        \n",
    "        results = []\n",
    "        for i in range(len(s)):\n",
    "            if not s[i].isdigit():\n",
    "                lefts = self.diffWaysToCompute(s[:i])\n",
    "                rights = self.diffWaysToCompute(s[i+1:])\n",
    "                for l in lefts:\n",
    "                    for r in rights:\n",
    "                        if s[i] == '+':\n",
    "                            res = l + r \n",
    "                        elif s[i] == '-':\n",
    "                            res = l - r \n",
    "                        else:\n",
    "                            res = l * r \n",
    "                        results.append(res)\n",
    "        return results\n",
    "\n",
    "\n",
    "    def S2(self, expression):\n",
    "        @functools.lru_cache(None)\n",
    "        def backtrack(s):\n",
    "            if len(s) <= 2:\n",
    "                return [int(s)]\n",
    "            \n",
    "            # positions = []\n",
    "            n = len(s)\n",
    "            results = []\n",
    "            for i in range(n):\n",
    "                if not s[i].isdigit():\n",
    "                    left = backtrack(s[:i])\n",
    "                    right = backtrack(s[i+1:])\n",
    "                    for l in left:\n",
    "                        for r in right:\n",
    "                            if s[i] == \"*\":\n",
    "                                res = l * r\n",
    "                            elif s[i] == \"+\":\n",
    "                                res = l + r \n",
    "                            else:\n",
    "                                res = l - r \n",
    "                            results.append(res)\n",
    "            return results\n",
    "                        \n",
    "        results = backtrack(expression)\n",
    "        # print(results)\n",
    "        return results\n",
    "\n",
    "\n",
    "            \n"
   ]
  },
  {
   "attachments": {},
   "cell_type": "markdown",
   "metadata": {},
   "source": [
    "294. Flip Game II\n",
    "\n",
    "You are playing a Flip Game with your friend.\n",
    "\n",
    "You are given a string currentState that contains only '+' and '-'. You and your friend take turns to flip two consecutive \"++\" into \"--\". The game ends when a person can no longer make a move, and therefore the other person will be the winner.\n",
    "\n",
    "Return true if the starting player can guarantee a win, and false otherwise.\n",
    "\n",
    " \n",
    "\n",
    "Example 1:\n",
    "\n",
    "Input: currentState = \"++++\"\n",
    "Output: true\n",
    "Explanation: The starting player can guarantee a win by flipping the middle \"++\" to become \"+--+\".\n",
    "Example 2:\n",
    "\n",
    "Input: currentState = \"+\"\n",
    "Output: false\n",
    " \n",
    "\n",
    "Constraints:\n",
    "\n",
    "1 <= currentState.length <= 60\n",
    "currentState[i] is either '+' or '-'."
   ]
  },
  {
   "cell_type": "code",
   "execution_count": 111,
   "metadata": {},
   "outputs": [],
   "source": [
    "class Solution:\n",
    "    def canWin(self, currentState: str) -> bool:\n",
    "        s = currentState\n",
    "        if '++' not in s:\n",
    "            # print(\"Fail\")\n",
    "            return False \n",
    "\n",
    "        n = len(s)\n",
    "\n",
    "        for i in range(n - 1):\n",
    "            if s[i:i+2] == '++':\n",
    "                t = s[:i] + '--' + s[i+2:]\n",
    "                if not self.canWin(t):\n",
    "                    # if only friend can not win, you can win\n",
    "                    return True \n",
    "        return False \n"
   ]
  },
  {
   "cell_type": "code",
   "execution_count": 112,
   "metadata": {},
   "outputs": [
    {
     "data": {
      "text/plain": [
       "True"
      ]
     },
     "execution_count": 112,
     "metadata": {},
     "output_type": "execute_result"
    }
   ],
   "source": [
    "currentState = \"++++\"\n",
    "Solution().canWin(currentState)"
   ]
  },
  {
   "attachments": {},
   "cell_type": "markdown",
   "metadata": {},
   "source": [
    "# 股票"
   ]
  },
  {
   "attachments": {},
   "cell_type": "markdown",
   "metadata": {},
   "source": [
    "## 固定模板\n",
    "- dp[i][k][0] 表示第0-i天，还剩k次交易，不持仓时的利润\n",
    "- dp[i][k][1] 表示第0-i天，还剩k次交易，持仓时的利润\n",
    "### 1. 初始化\n",
    "- 数组大小 dp[n][k][2]\n",
    "- dp[0][k][0] = 0 如果不持仓，初始利润为0\n",
    "- dp[0][k][1] = - prices[i] 如果持仓，初始利润为负数\n",
    "### 2. 状态转移方程\n",
    "- dp[i][k][0] = max(dp[i-1][k][0], dp[i-1][k][1] + p[i])\n",
    "- dp[i][k][1] = max(dp[i-1][k][1], dp[i-1][k][0] - p[i])\n",
    "\n",
    "### 3. 结果\n",
    "- dp[n-1][0][0] 返回不持仓时的利润\n",
    "\n",
    "### 4. 状态压缩\n",
    "- 由于i只和i-1有关，可以用 dp[k][0] = max(dp[k][0], dp[k][1] + p[i])的方法\n",
    "- 这里更新时隐含了他是前一个\n",
    "- 如果冻结和前两个有关，就再创造一个变量temp\n"
   ]
  },
  {
   "attachments": {},
   "cell_type": "markdown",
   "metadata": {},
   "source": [
    "123. 买卖股票的最佳时机 III\n",
    "\n",
    "给定一个数组，它的第 i 个元素是一支给定的股票在第 i 天的价格。\n",
    "\n",
    "设计一个算法来计算你所能获取的最大利润。你最多可以完成 两笔 交易。\n",
    "\n",
    "注意：你不能同时参与多笔交易（你必须在再次购买前出售掉之前的股票）。\n",
    "\n",
    " \n",
    "\n",
    "示例 1:\n",
    "\n",
    "输入：prices = [3,3,5,0,0,3,1,4]\n",
    "输出：6\n",
    "解释：在第 4 天（股票价格 = 0）的时候买入，在第 6 天（股票价格 = 3）的时候卖出，这笔交易所能获得利润 = 3-0 = 3 。\n",
    "     随后，在第 7 天（股票价格 = 1）的时候买入，在第 8 天 （股票价格 = 4）的时候卖出，这笔交易所能获得利润 = 4-1 = 3 。\n",
    "示例 2：\n",
    "\n",
    "输入：prices = [1,2,3,4,5]\n",
    "输出：4\n",
    "解释：在第 1 天（股票价格 = 1）的时候买入，在第 5 天 （股票价格 = 5）的时候卖出, 这笔交易所能获得利润 = 5-1 = 4 。   \n",
    "     注意你不能在第 1 天和第 2 天接连购买股票，之后再将它们卖出。   \n",
    "     因为这样属于同时参与了多笔交易，你必须在再次购买前出售掉之前的股票。\n",
    "示例 3：\n",
    "\n",
    "输入：prices = [7,6,4,3,1] \n",
    "输出：0 \n",
    "解释：在这个情况下, 没有交易完成, 所以最大利润为 0。\n",
    "示例 4：\n",
    "\n",
    "输入：prices = [1]\n",
    "输出：0"
   ]
  },
  {
   "attachments": {},
   "cell_type": "markdown",
   "metadata": {},
   "source": [
    "## 如何思考\n",
    "1. 如果只交易一次的话，可以更新买入价格的最小值，和到目前位置的最大利润 （不用知道后面的最大利润）\n",
    "2. 如果交易两次的话，可以更新第一次交易的利润，再加上第二次交易的利润"
   ]
  },
  {
   "cell_type": "code",
   "execution_count": 3,
   "metadata": {},
   "outputs": [],
   "source": [
    "class Solution:\n",
    "    def maxProfit(self, prices: List[int]) -> int:\n",
    "        buy1 = buy2 = -prices[0]\n",
    "        sell1 = sell2 = 0\n",
    "        n = len(prices)\n",
    "        for i in range(1, n):\n",
    "            p = prices[i]\n",
    "            buy1 = max(buy1, -p)\n",
    "            sell1 = max(sell1, buy1 + p)\n",
    "            buy2 = max(buy2, sell1 - p)\n",
    "            sell2 = max(sell2, buy2 + p)\n",
    "\n",
    "        return sell2"
   ]
  },
  {
   "cell_type": "code",
   "execution_count": 4,
   "metadata": {},
   "outputs": [
    {
     "data": {
      "text/plain": [
       "6"
      ]
     },
     "execution_count": 4,
     "metadata": {},
     "output_type": "execute_result"
    }
   ],
   "source": [
    "prices = [3,3,5,0,0,3,1,4]\n",
    "Solution().maxProfit(prices)"
   ]
  },
  {
   "attachments": {},
   "cell_type": "markdown",
   "metadata": {},
   "source": [
    "188. 买卖股票的最佳时机 IV\n",
    "\n",
    "给定一个整数数组 prices ，它的第 i 个元素 prices[i] 是一支给定的股票在第 i 天的价格。\n",
    "\n",
    "设计一个算法来计算你所能获取的最大利润。你最多可以完成 k 笔交易。\n",
    "\n",
    "注意：你不能同时参与多笔交易（你必须在再次购买前出售掉之前的股票）。\n",
    "\n",
    " \n",
    "\n",
    "示例 1：\n",
    "\n",
    "输入：k = 2, prices = [2,4,1]\n",
    "输出：2\n",
    "解释：在第 1 天 (股票价格 = 2) 的时候买入，在第 2 天 (股票价格 = 4) 的时候卖出，这笔交易所能获得利润 = 4-2 = 2 。\n",
    "示例 2：\n",
    "\n",
    "输入：k = 2, prices = [3,2,6,5,0,3]\n",
    "输出：7\n",
    "解释：在第 2 天 (股票价格 = 2) 的时候买入，在第 3 天 (股票价格 = 6) 的时候卖出, 这笔交易所能获得利润 = 6-2 = 4 。\n",
    "     随后，在第 5 天 (股票价格 = 0) 的时候买入，在第 6 天 (股票价格 = 3) 的时候卖出, 这笔交易所能获得利润 = 3-0 = 3 。"
   ]
  },
  {
   "cell_type": "code",
   "execution_count": 141,
   "metadata": {},
   "outputs": [],
   "source": [
    "class Solution:\n",
    "    def maxProfit(self, k: int, prices: List[int]) -> int:\n",
    "        n = len(prices)\n",
    "        # dp = [[[0 for _ in range(2)] for _ in range(k+1)] for _ in range(n)]\n",
    "        # for j in range(1, k+1):\n",
    "        #     dp[0][j][1] = -prices[0]\n",
    "\n",
    "        # for i in range(1, n):\n",
    "        #     for j in range(1, k + 1):\n",
    "        #         p = prices[i]\n",
    "        #         dp[i][j][0] = max(dp[i-1][j][0], dp[i-1][j][1] + p)\n",
    "        #         dp[i][j][1] = max(dp[i-1][j][1], dp[i-1][j-1][0] - p)\n",
    "\n",
    "        # return dp[-1][-1][0]\n",
    "\n",
    "        # 压缩状态\n",
    "        # 如果只用上一个，就可以直接去掉那个维度，但是要注意中途变量不能被修改了\n",
    "        dp = [[0 for _ in range(2)] for _ in range(k+1)]\n",
    "        for j in range(1, k+1):\n",
    "            dp[j][1] = -prices[0]\n",
    "\n",
    "        for i in range(1, n):\n",
    "            for j in range(1, k + 1):\n",
    "                p = prices[i]\n",
    "                dp[j][0] = max(dp[j][0], dp[j][1] + p)\n",
    "                dp[j][1] = max(dp[j][1], dp[j-1][0] - p)\n",
    "\n",
    "        return dp[-1][0]"
   ]
  },
  {
   "cell_type": "code",
   "execution_count": 142,
   "metadata": {},
   "outputs": [
    {
     "data": {
      "text/plain": [
       "7"
      ]
     },
     "execution_count": 142,
     "metadata": {},
     "output_type": "execute_result"
    }
   ],
   "source": [
    "k = 2\n",
    "prices = [3,2,6,5,0,3]\n",
    "Solution().maxProfit(k, prices)"
   ]
  },
  {
   "attachments": {},
   "cell_type": "markdown",
   "metadata": {},
   "source": [
    "匹配型：逐步匹配可以吗"
   ]
  },
  {
   "cell_type": "code",
   "execution_count": 13,
   "metadata": {},
   "outputs": [],
   "source": [
    "nums = [1,2,3,2,5,1,4,8]\n",
    "def equalSubset(nums):\n",
    "    N = len(nums)\n",
    "    S = sum(nums)\n",
    "    if N % 2 == 1 or S % 2 == 1:\n",
    "        return -1\n",
    "    \n",
    "    n = N // 2\n",
    "    s = S // 2\n",
    "    nums.sort()\n",
    "    result = []\n",
    "    \n",
    "    def dfs(i, cnt, p):\n",
    "        if cnt == n:\n",
    "            if p == s:\n",
    "                return True \n",
    "            return False \n",
    "        if p > s:\n",
    "            return False \n",
    "        for k in range(i+1, N):\n",
    "            result.append(nums[k])\n",
    "            if dfs(k, cnt + 1, p + nums[k]):\n",
    "                return True \n",
    "            result.pop()\n",
    "        return False \n",
    "    \n",
    "    dfs(0, 0, 0)\n",
    "    if result:\n",
    "        for num in result:\n",
    "            nums.remove(num)\n",
    "        return result + sorted(nums)\n",
    "            \n",
    "    return -1"
   ]
  },
  {
   "cell_type": "code",
   "execution_count": 18,
   "metadata": {},
   "outputs": [
    {
     "data": {
      "text/plain": [
       "-1"
      ]
     },
     "execution_count": 18,
     "metadata": {},
     "output_type": "execute_result"
    }
   ],
   "source": [
    "arr = [16, 22, 35, 8, 20, 1, 21, 11]\n",
    "arr = [1, 7, 20, -7, 5, -14, 6, -4]\n",
    "arr = [0,0,0,0,0,0,1,2,2,3,3,1,1,3]\n",
    "arr = [0,0,0,0]\n",
    "# arr = [0]    \n",
    "equalSubset(arr)"
   ]
  },
  {
   "attachments": {},
   "cell_type": "markdown",
   "metadata": {},
   "source": [
    "# 圣光\n",
    "数学方法，反正每次都要用的\n"
   ]
  },
  {
   "cell_type": "code",
   "execution_count": 41,
   "metadata": {},
   "outputs": [],
   "source": [
    "class Solution:\n",
    "    def minLife(self, k, attacks):\n",
    "        n = len(attacks)\n",
    "        @functools.cache\n",
    "        def cost(i, j): # have had i attacks and have used j light\n",
    "            if j == 0:\n",
    "                return -sum(attacks[:i])\n",
    "            if i == 0:\n",
    "                return -float(\"inf\")\n",
    "            return max(cost(i-1, j) - attacks[i-1] + j, cost(i-1, j-1))\n",
    "        \n",
    "        return max(1, -max(cost(n, j) for j in range(k + 1)))\n",
    "    \n",
    "    def minLifeDP(self, k, attacks):\n",
    "        n = len(attacks)\n",
    "        dp = [[0] * (k + 1) for _ in range(n+1)]\n",
    "        for i in range(1, n + 1):\n",
    "            dp[i][0] = dp[i-1][0] - attacks[i-1]\n",
    "        for j in range(1, k + 1):\n",
    "            dp[0][j] = -float(\"inf\")\n",
    "        for i in range(1, n+1):\n",
    "            for j in range(1, k+1):\n",
    "                dp[i][j] = max(dp[i-1][j-1], dp[i-1][j] + j - attacks[i-1])\n",
    "                \n",
    "        # for i in dp:\n",
    "        #     print(i)\n",
    "        return max(1, -max(dp[n][j] for j in range(k+1)))\n",
    "    \n",
    "    def miniLifeMath(self, k, attacks):\n",
    "        attacks = list(attacks)\n",
    "        ls = list(enumerate(attacks))\n",
    "        ls.sort(key=lambda x: x[1]-x[0], reverse=True)\n",
    "        keys = [x for x, _ in ls[:k]]\n",
    "        life = 0\n",
    "        for k in keys:\n",
    "            attacks[k] = -1\n",
    "            \n",
    "        j = 0\n",
    "        for i in range(len(attacks)):\n",
    "            if attacks[i] != -1:\n",
    "                life = life - attacks[i] + j\n",
    "            else:\n",
    "                j += 1\n",
    "        return max(1, -life)"
   ]
  },
  {
   "cell_type": "code",
   "execution_count": 42,
   "metadata": {},
   "outputs": [],
   "source": [
    "k = 2\n",
    "attacks = [3,10,7,8]"
   ]
  },
  {
   "cell_type": "code",
   "execution_count": 64,
   "metadata": {},
   "outputs": [],
   "source": [
    "k = 10\n",
    "attacks = np.random.randint(1,1000,100)"
   ]
  },
  {
   "cell_type": "code",
   "execution_count": 68,
   "metadata": {},
   "outputs": [
    {
     "name": "stdout",
     "output_type": "stream",
     "text": [
      "51.1 µs ± 9.5 µs per loop (mean ± std. dev. of 7 runs, 100 loops each)\n"
     ]
    }
   ],
   "source": [
    "%%timeit -n 100\n",
    "Solution().miniLifeMath(k, attacks)"
   ]
  },
  {
   "cell_type": "code",
   "execution_count": 72,
   "metadata": {},
   "outputs": [
    {
     "name": "stdout",
     "output_type": "stream",
     "text": [
      "953 µs ± 57.6 µs per loop (mean ± std. dev. of 7 runs, 100 loops each)\n"
     ]
    }
   ],
   "source": [
    "%%timeit -n 100\n",
    "Solution().minLife(k, attacks)"
   ]
  },
  {
   "cell_type": "code",
   "execution_count": 71,
   "metadata": {},
   "outputs": [
    {
     "name": "stdout",
     "output_type": "stream",
     "text": [
      "506 µs ± 29.8 µs per loop (mean ± std. dev. of 7 runs, 100 loops each)\n"
     ]
    }
   ],
   "source": [
    "%%timeit -n 100\n",
    "Solution().minLifeDP(k, attacks)"
   ]
  },
  {
   "cell_type": "code",
   "execution_count": 53,
   "metadata": {},
   "outputs": [],
   "source": []
  },
  {
   "attachments": {},
   "cell_type": "markdown",
   "metadata": {},
   "source": [
    "## 实力差距"
   ]
  },
  {
   "cell_type": "code",
   "execution_count": 8,
   "metadata": {},
   "outputs": [],
   "source": [
    "def diff(arr, k):\n",
    "    n = len(arr)\n",
    "    arr.sort()\n",
    "    difs = [arr[i+1] - arr[i] for i in range(n-1)]\n",
    "    difs = [x if x <= k else float(\"inf\") for x in difs]\n",
    "    m = len(difs)\n",
    "    dp = [float(\"inf\")] * (m+2)\n",
    "    dp[0] = difs[0]\n",
    "    for i in range(1,m+1):\n",
    "        dp[i] = min(dp[i-1], dp[i-2]+difs[i-1], dp[i-3]+difs[i-2])\n",
    "    return dp[m]\n",
    "    \n",
    "    "
   ]
  },
  {
   "cell_type": "code",
   "execution_count": 9,
   "metadata": {},
   "outputs": [
    {
     "data": {
      "text/plain": [
       "23"
      ]
     },
     "execution_count": 9,
     "metadata": {},
     "output_type": "execute_result"
    }
   ],
   "source": [
    "diff([81,87,41,59,81,18],30)"
   ]
  }
 ],
 "metadata": {
  "kernelspec": {
   "display_name": "base",
   "language": "python",
   "name": "python3"
  },
  "language_info": {
   "codemirror_mode": {
    "name": "ipython",
    "version": 3
   },
   "file_extension": ".py",
   "mimetype": "text/x-python",
   "name": "python",
   "nbconvert_exporter": "python",
   "pygments_lexer": "ipython3",
   "version": "3.9.12"
  },
  "orig_nbformat": 4,
  "vscode": {
   "interpreter": {
    "hash": "841e27f2a14d44ccd92f4291012cb59f687474acc5b2dafa531afbd4ea5b7136"
   }
  }
 },
 "nbformat": 4,
 "nbformat_minor": 2
}

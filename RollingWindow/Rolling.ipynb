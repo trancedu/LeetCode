{
 "cells": [
  {
   "attachments": {},
   "cell_type": "markdown",
   "metadata": {},
   "source": [
    "# 滑动窗口总结"
   ]
  },
  {
   "attachments": {},
   "cell_type": "markdown",
   "metadata": {},
   "source": [
    "1. 用双指针来维护滑动窗口\n",
    "2. 右指针在字典超过范围的时候停止，并计算最大值\n",
    "3. 左指针移动让字典回到范围之内\n",
    "4. 最后还要计算一次最大值\n",
    "5. 注意字典可以用有序字典来维护，这样可以保证字典的顺序\n",
    "6. 字典可以用来维护最大值也可以用来维护出现的次数"
   ]
  },
  {
   "cell_type": "code",
   "execution_count": 1,
   "metadata": {},
   "outputs": [],
   "source": [
    "from typing import List, Tuple\n",
    "from collections import *"
   ]
  },
  {
   "attachments": {},
   "cell_type": "markdown",
   "metadata": {},
   "source": [
    "340. \n",
    "至多包含 K 个不同字符的最长子串\n",
    "给你一个字符串 s 和一个整数 k ，请你找出 至多 包含 k 个 不同 字符的最长子串，并返回该子串的长度。\n",
    "\n",
    " \n",
    "\n",
    "示例 1：\n",
    "\n",
    "输入：s = \"eceba\", k = 2\n",
    "输出：3\n",
    "解释：满足题目要求的子串是 \"ece\" ，长度为 3 。\n",
    "示例 2：\n",
    "\n",
    "输入：s = \"aa\", k = 1\n",
    "输出：2\n",
    "解释：满足题目要求的子串是 \"aa\" ，长度为 2 。\n",
    " \n",
    "\n",
    "提示：\n",
    "\n",
    "1 <= s.length <= 5 * 104\n",
    "0 <= k <= 50"
   ]
  },
  {
   "cell_type": "code",
   "execution_count": 2,
   "metadata": {},
   "outputs": [],
   "source": [
    "class Solution:\n",
    "    def lengthOfLongestSubstringKDistinct(self, s: str, k: int) -> int:\n",
    "        return self.hashmap_count(s, k)\n",
    "        # return self.OrderedDictWindow(s, k)\n",
    "\n",
    "    def OrderedDictWindow(self, s, k):\n",
    "        if k == 0:\n",
    "            return 0 \n",
    "\n",
    "        d = OrderedDict()\n",
    "        l = r = 0 \n",
    "        max_len = 0\n",
    "        n = len(s)\n",
    "        while r < n:\n",
    "            ch = s[r]\n",
    "            if ch in d:\n",
    "                del d[ch]\n",
    "            d[ch] = r \n",
    "\n",
    "            if len(d) == k + 1:\n",
    "                max_len = max(max_len, r - l)\n",
    "                _, last_l = d.popitem(False)\n",
    "                l = last_l + 1\n",
    "            \n",
    "            r += 1\n",
    "        \n",
    "        max_len = max(max_len, n - l)\n",
    "        return max_len\n",
    "        \n",
    "\n",
    "    def hashmap_count(self, s, k):\n",
    "        if k == 0:\n",
    "            return 0 \n",
    "        \n",
    "        d = {}\n",
    "        l = r = 0 \n",
    "        n = len(s)\n",
    "        max_len = 0\n",
    "        while r < n:\n",
    "            ch = s[r]\n",
    "            d[ch] = d.get(ch, 0) + 1\n",
    "            if len(d) == k + 1:\n",
    "                max_len = max(max_len, r - l)\n",
    "                while len(d) > k:\n",
    "                    w = s[l]\n",
    "                    d[w] -= 1\n",
    "                    if d[w] == 0:\n",
    "                        del d[w]\n",
    "                    l += 1\n",
    "            r += 1\n",
    "        max_len = max(max_len, r - l)\n",
    "        return max_len"
   ]
  },
  {
   "cell_type": "code",
   "execution_count": 3,
   "metadata": {},
   "outputs": [
    {
     "data": {
      "text/plain": [
       "3"
      ]
     },
     "execution_count": 3,
     "metadata": {},
     "output_type": "execute_result"
    }
   ],
   "source": [
    "Solution().lengthOfLongestSubstringKDistinct(\"eceba\", 2)"
   ]
  },
  {
   "cell_type": "code",
   "execution_count": 24,
   "metadata": {},
   "outputs": [],
   "source": [
    "def rotate(i, j, n):\n",
    "    return (j, n - 1 -i)\n",
    "    "
   ]
  },
  {
   "cell_type": "code",
   "execution_count": 27,
   "metadata": {},
   "outputs": [],
   "source": [
    "def get_good_step(m):\n",
    "    n = len(m)\n",
    "    ans = 0\n",
    "    p = n // 2 + 1 \n",
    "    for i in range(p):\n",
    "        for j in range(p):\n",
    "            # 获得四个值\n",
    "            x, y = i, j\n",
    "            nums = []\n",
    "            for k in range(4):\n",
    "                x, y = rotate(x, y, n)\n",
    "                nums.append(m[x][y])\n",
    "            \n",
    "            # 计算最大值\n",
    "            max_nums = max(nums)\n",
    "            # 计算需要加的1个数\n",
    "            ans += 4 * max_nums - sum(nums)\n",
    "            # 更新为最大值\n",
    "            m[i][j], m[j][n-1-i], m[n-1-i][n-1-j], m[n-1-j][i] = [max_nums] * 4\n",
    "    return ans"
   ]
  },
  {
   "cell_type": "code",
   "execution_count": 28,
   "metadata": {},
   "outputs": [
    {
     "name": "stdout",
     "output_type": "stream",
     "text": [
      "28\n",
      "6\n",
      "0\n"
     ]
    }
   ],
   "source": [
    "m1 = \\\n",
    "[\n",
    "    [1, 2, 3],\n",
    "    [4, 5, 6],\n",
    "    [7, 8, 9]\n",
    "]\n",
    "print(get_good_step(m1))\n",
    "\n",
    "m2 = [[4,3],[2,1]]\n",
    "print(get_good_step(m2))\n",
    "\n",
    "m3 = [[3]]\n",
    "print(get_good_step(m3))"
   ]
  },
  {
   "cell_type": "code",
   "execution_count": null,
   "metadata": {},
   "outputs": [],
   "source": []
  },
  {
   "cell_type": "code",
   "execution_count": 30,
   "metadata": {},
   "outputs": [],
   "source": [
    "import math\n",
    "def get_k(a, b, c, d):\n",
    "    if a < c:\n",
    "        return b \n",
    "    if a == c:\n",
    "        if a > d:\n",
    "            return b \n",
    "        return - 1\n",
    "    # now a > c\n",
    "    if b <= d:\n",
    "        return - 1\n",
    "    if math.ceil(b / d) * c > a:\n",
    "        return b \n",
    "    return -1\n",
    "     \n",
    "    "
   ]
  },
  {
   "cell_type": "code",
   "execution_count": 33,
   "metadata": {},
   "outputs": [
    {
     "data": {
      "text/plain": [
       "-1"
      ]
     },
     "execution_count": 33,
     "metadata": {},
     "output_type": "execute_result"
    }
   ],
   "source": [
    "get_k(2,1,5,3)\n",
    "get_k(10,2,3,1)"
   ]
  },
  {
   "cell_type": "code",
   "execution_count": 34,
   "metadata": {},
   "outputs": [],
   "source": [
    "ls = list('abc *s')"
   ]
  },
  {
   "cell_type": "code",
   "execution_count": 37,
   "metadata": {},
   "outputs": [
    {
     "data": {
      "text/plain": [
       "['a', 'b', 'c', ' ', ' ', 's']"
      ]
     },
     "execution_count": 37,
     "metadata": {},
     "output_type": "execute_result"
    }
   ],
   "source": [
    "[x if x.isalpha() else ' ' for x in ls ]"
   ]
  },
  {
   "cell_type": "markdown",
   "metadata": {},
   "source": [
    "## 优雅数组"
   ]
  },
  {
   "cell_type": "code",
   "execution_count": null,
   "metadata": {},
   "outputs": [],
   "source": [
    "def get_elegant_subset(nums, k):\n",
    "    d = [0] * 100001\n",
    "    l = r = 0\n",
    "    n = len(nums)\n",
    "    \n",
    "    ans = 0\n",
    "    while r < n:\n",
    "        num = nums[r]\n",
    "        d[num] += 1\n",
    "        while d[num] >= k:\n",
    "            ans += n - r\n",
    "            d[nums[l]] -= 1\n",
    "            l += 1\n",
    "        r += 1\n",
    "        \n",
    "    return ans\n",
    "            \n",
    "# n , k = list(map(int , input().split()))\n",
    "# a = list(map(int , input().split()))\n",
    "def get_elegant_subset2(a, k):\n",
    "    # 桶\n",
    "    d = [0 for i in range(10005)]\n",
    "    # ans记录答案\n",
    "    ans = 0\n",
    "    # i 是左端点,j是右端点\n",
    "    i = 0\n",
    "    n = len(a)\n",
    "    for j in range(n):\n",
    "        # 新增一个点,记录出现次数\n",
    "        d[a[j]] += 1\n",
    "        # 如果有数出现次数大于等于k,那么一定是a[j]\n",
    "        while d[a[j]] >= k:\n",
    "            #统计答案,根据<单调性>\n",
    "            #以i为起点的合法区间一定是:[i , j],[i , j + 1],���,[i,n]\n",
    "            ans += n - j\n",
    "            #移动左端点\n",
    "            d[a[i]] -= 1\n",
    "            i += 1\n",
    "    print(ans)\n",
    "    "
   ]
  },
  {
   "cell_type": "code",
   "execution_count": null,
   "metadata": {},
   "outputs": [
    {
     "name": "stdout",
     "output_type": "stream",
     "text": [
      "10\n",
      "1\n",
      "0\n",
      "7\n",
      "2\n"
     ]
    }
   ],
   "source": [
    "print(get_elegant_subset([1,2,3,4], 1))\n",
    "print(get_elegant_subset([1,2,3,1,2,3,1], 3))\n",
    "print(get_elegant_subset([1,2,3], 2))\n",
    "print(get_elegant_subset([1,2,3,4,3,4], 2))\n",
    "print(get_elegant_subset([1,2,1,3], 2))"
   ]
  },
  {
   "cell_type": "code",
   "execution_count": null,
   "metadata": {},
   "outputs": [],
   "source": [
    "def get_elegant_subset():\n",
    "    n, k = map(int, input().split())\n",
    "    nums = list(map(int, input().split()))\n",
    "    \n",
    "    d = defaultdict(list)\n",
    "    for i, num in enumerate(nums):\n",
    "        d[num].append(i)\n",
    "    \n",
    "    k_nums = [num for num in d.keys() if len(d[num]) >= k]\n",
    "    if not k_nums:\n",
    "        return 0\n",
    "    \n",
    "    n = len(nums)\n",
    "    dp = [[False] * n for _ in range(n)]\n",
    "    \n",
    "    for k_num in k_nums:\n",
    "        ids = d[k_num]\n",
    "        \n",
    "        for i in range(len(ids)-k+1):\n",
    "            a, b = ids[i], ids[i + k -1]\n",
    "            dp[a][b] = True \n",
    "            # print(a, b)\n",
    "            for x in range(a+1):\n",
    "                for y in range(b, n):\n",
    "                    dp[x][y] = True \n",
    "                 \n",
    "    return sum(x for i in range(n) for x in dp[i])"
   ]
  }
 ],
 "metadata": {
  "kernelspec": {
   "display_name": "base",
   "language": "python",
   "name": "python3"
  },
  "language_info": {
   "codemirror_mode": {
    "name": "ipython",
    "version": 3
   },
   "file_extension": ".py",
   "mimetype": "text/x-python",
   "name": "python",
   "nbconvert_exporter": "python",
   "pygments_lexer": "ipython3",
   "version": "3.9.12"
  },
  "orig_nbformat": 4,
  "vscode": {
   "interpreter": {
    "hash": "841e27f2a14d44ccd92f4291012cb59f687474acc5b2dafa531afbd4ea5b7136"
   }
  }
 },
 "nbformat": 4,
 "nbformat_minor": 2
}

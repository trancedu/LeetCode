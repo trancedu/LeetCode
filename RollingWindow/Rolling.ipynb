{
 "cells": [
  {
   "attachments": {},
   "cell_type": "markdown",
   "metadata": {},
   "source": [
    "# 滑动窗口总结"
   ]
  },
  {
   "attachments": {},
   "cell_type": "markdown",
   "metadata": {},
   "source": [
    "1. 用双指针来维护滑动窗口\n",
    "2. 右指针在字典超过范围的时候停止，并计算最大值\n",
    "3. 左指针移动让字典回到范围之内\n",
    "4. 最后还要计算一次最大值\n",
    "5. 注意字典可以用有序字典来维护，这样可以保证字典的顺序\n",
    "6. 字典可以用来维护最大值也可以用来维护出现的次数"
   ]
  },
  {
   "cell_type": "code",
   "execution_count": 1,
   "metadata": {},
   "outputs": [],
   "source": [
    "from typing import List, Tuple\n",
    "from collections import *"
   ]
  },
  {
   "attachments": {},
   "cell_type": "markdown",
   "metadata": {},
   "source": [
    "340. \n",
    "至多包含 K 个不同字符的最长子串\n",
    "给你一个字符串 s 和一个整数 k ，请你找出 至多 包含 k 个 不同 字符的最长子串，并返回该子串的长度。\n",
    "\n",
    " \n",
    "\n",
    "示例 1：\n",
    "\n",
    "输入：s = \"eceba\", k = 2\n",
    "输出：3\n",
    "解释：满足题目要求的子串是 \"ece\" ，长度为 3 。\n",
    "示例 2：\n",
    "\n",
    "输入：s = \"aa\", k = 1\n",
    "输出：2\n",
    "解释：满足题目要求的子串是 \"aa\" ，长度为 2 。\n",
    " \n",
    "\n",
    "提示：\n",
    "\n",
    "1 <= s.length <= 5 * 104\n",
    "0 <= k <= 50"
   ]
  },
  {
   "cell_type": "code",
   "execution_count": 2,
   "metadata": {},
   "outputs": [],
   "source": [
    "class Solution:\n",
    "    def lengthOfLongestSubstringKDistinct(self, s: str, k: int) -> int:\n",
    "        return self.hashmap_count(s, k)\n",
    "        # return self.OrderedDictWindow(s, k)\n",
    "\n",
    "    def OrderedDictWindow(self, s, k):\n",
    "        if k == 0:\n",
    "            return 0 \n",
    "\n",
    "        d = OrderedDict()\n",
    "        l = r = 0 \n",
    "        max_len = 0\n",
    "        n = len(s)\n",
    "        while r < n:\n",
    "            ch = s[r]\n",
    "            if ch in d:\n",
    "                del d[ch]\n",
    "            d[ch] = r \n",
    "\n",
    "            if len(d) == k + 1:\n",
    "                max_len = max(max_len, r - l)\n",
    "                _, last_l = d.popitem(False)\n",
    "                l = last_l + 1\n",
    "            \n",
    "            r += 1\n",
    "        \n",
    "        max_len = max(max_len, n - l)\n",
    "        return max_len\n",
    "        \n",
    "\n",
    "    def hashmap_count(self, s, k):\n",
    "        if k == 0:\n",
    "            return 0 \n",
    "        \n",
    "        d = {}\n",
    "        l = r = 0 \n",
    "        n = len(s)\n",
    "        max_len = 0\n",
    "        while r < n:\n",
    "            ch = s[r]\n",
    "            d[ch] = d.get(ch, 0) + 1\n",
    "            if len(d) == k + 1:\n",
    "                max_len = max(max_len, r - l)\n",
    "                while len(d) > k:\n",
    "                    w = s[l]\n",
    "                    d[w] -= 1\n",
    "                    if d[w] == 0:\n",
    "                        del d[w]\n",
    "                    l += 1\n",
    "            r += 1\n",
    "        max_len = max(max_len, r - l)\n",
    "        return max_len"
   ]
  },
  {
   "cell_type": "code",
   "execution_count": 3,
   "metadata": {},
   "outputs": [
    {
     "data": {
      "text/plain": [
       "3"
      ]
     },
     "execution_count": 3,
     "metadata": {},
     "output_type": "execute_result"
    }
   ],
   "source": [
    "Solution().lengthOfLongestSubstringKDistinct(\"eceba\", 2)"
   ]
  },
  {
   "cell_type": "code",
   "execution_count": 24,
   "metadata": {},
   "outputs": [],
   "source": [
    "def rotate(i, j, n):\n",
    "    return (j, n - 1 -i)\n",
    "    "
   ]
  },
  {
   "cell_type": "code",
   "execution_count": 27,
   "metadata": {},
   "outputs": [],
   "source": [
    "def get_good_step(m):\n",
    "    n = len(m)\n",
    "    ans = 0\n",
    "    p = n // 2 + 1 \n",
    "    for i in range(p):\n",
    "        for j in range(p):\n",
    "            # 获得四个值\n",
    "            x, y = i, j\n",
    "            nums = []\n",
    "            for k in range(4):\n",
    "                x, y = rotate(x, y, n)\n",
    "                nums.append(m[x][y])\n",
    "            \n",
    "            # 计算最大值\n",
    "            max_nums = max(nums)\n",
    "            # 计算需要加的1个数\n",
    "            ans += 4 * max_nums - sum(nums)\n",
    "            # 更新为最大值\n",
    "            m[i][j], m[j][n-1-i], m[n-1-i][n-1-j], m[n-1-j][i] = [max_nums] * 4\n",
    "    return ans"
   ]
  },
  {
   "cell_type": "code",
   "execution_count": 28,
   "metadata": {},
   "outputs": [
    {
     "name": "stdout",
     "output_type": "stream",
     "text": [
      "28\n",
      "6\n",
      "0\n"
     ]
    }
   ],
   "source": [
    "m1 = \\\n",
    "[\n",
    "    [1, 2, 3],\n",
    "    [4, 5, 6],\n",
    "    [7, 8, 9]\n",
    "]\n",
    "print(get_good_step(m1))\n",
    "\n",
    "m2 = [[4,3],[2,1]]\n",
    "print(get_good_step(m2))\n",
    "\n",
    "m3 = [[3]]\n",
    "print(get_good_step(m3))"
   ]
  },
  {
   "cell_type": "code",
   "execution_count": null,
   "metadata": {},
   "outputs": [],
   "source": []
  },
  {
   "cell_type": "code",
   "execution_count": 30,
   "metadata": {},
   "outputs": [],
   "source": [
    "import math\n",
    "def get_k(a, b, c, d):\n",
    "    if a < c:\n",
    "        return b \n",
    "    if a == c:\n",
    "        if a > d:\n",
    "            return b \n",
    "        return - 1\n",
    "    # now a > c\n",
    "    if b <= d:\n",
    "        return - 1\n",
    "    if math.ceil(b / d) * c > a:\n",
    "        return b \n",
    "    return -1\n",
    "     \n",
    "    "
   ]
  },
  {
   "cell_type": "code",
   "execution_count": 33,
   "metadata": {},
   "outputs": [
    {
     "data": {
      "text/plain": [
       "-1"
      ]
     },
     "execution_count": 33,
     "metadata": {},
     "output_type": "execute_result"
    }
   ],
   "source": [
    "get_k(2,1,5,3)\n",
    "get_k(10,2,3,1)"
   ]
  },
  {
   "cell_type": "code",
   "execution_count": 34,
   "metadata": {},
   "outputs": [],
   "source": [
    "ls = list('abc *s')"
   ]
  },
  {
   "cell_type": "code",
   "execution_count": 37,
   "metadata": {},
   "outputs": [
    {
     "data": {
      "text/plain": [
       "['a', 'b', 'c', ' ', ' ', 's']"
      ]
     },
     "execution_count": 37,
     "metadata": {},
     "output_type": "execute_result"
    }
   ],
   "source": [
    "[x if x.isalpha() else ' ' for x in ls ]"
   ]
  },
  {
   "cell_type": "markdown",
   "metadata": {},
   "source": [
    "## 优雅数组"
   ]
  },
  {
   "cell_type": "code",
   "execution_count": null,
   "metadata": {},
   "outputs": [],
   "source": [
    "def get_elegant_subset(nums, k):\n",
    "    d = [0] * 100001\n",
    "    l = r = 0\n",
    "    n = len(nums)\n",
    "    \n",
    "    ans = 0\n",
    "    while r < n:\n",
    "        num = nums[r]\n",
    "        d[num] += 1\n",
    "        while d[num] >= k:\n",
    "            ans += n - r\n",
    "            d[nums[l]] -= 1\n",
    "            l += 1\n",
    "        r += 1\n",
    "        \n",
    "    return ans\n",
    "            \n",
    "# n , k = list(map(int , input().split()))\n",
    "# a = list(map(int , input().split()))\n",
    "def get_elegant_subset2(a, k):\n",
    "    # 桶\n",
    "    d = [0 for i in range(10005)]\n",
    "    # ans记录答案\n",
    "    ans = 0\n",
    "    # i 是左端点,j是右端点\n",
    "    i = 0\n",
    "    n = len(a)\n",
    "    for j in range(n):\n",
    "        # 新增一个点,记录出现次数\n",
    "        d[a[j]] += 1\n",
    "        # 如果有数出现次数大于等于k,那么一定是a[j]\n",
    "        while d[a[j]] >= k:\n",
    "            #统计答案,根据<单调性>\n",
    "            #以i为起点的合法区间一定是:[i , j],[i , j + 1],���,[i,n]\n",
    "            ans += n - j\n",
    "            #移动左端点\n",
    "            d[a[i]] -= 1\n",
    "            i += 1\n",
    "    print(ans)\n",
    "    "
   ]
  },
  {
   "cell_type": "code",
   "execution_count": null,
   "metadata": {},
   "outputs": [
    {
     "name": "stdout",
     "output_type": "stream",
     "text": [
      "10\n",
      "1\n",
      "0\n",
      "7\n",
      "2\n"
     ]
    }
   ],
   "source": [
    "print(get_elegant_subset([1,2,3,4], 1))\n",
    "print(get_elegant_subset([1,2,3,1,2,3,1], 3))\n",
    "print(get_elegant_subset([1,2,3], 2))\n",
    "print(get_elegant_subset([1,2,3,4,3,4], 2))\n",
    "print(get_elegant_subset([1,2,1,3], 2))"
   ]
  },
  {
   "cell_type": "code",
   "execution_count": null,
   "metadata": {},
   "outputs": [],
   "source": [
    "def get_elegant_subset():\n",
    "    n, k = map(int, input().split())\n",
    "    nums = list(map(int, input().split()))\n",
    "    \n",
    "    d = defaultdict(list)\n",
    "    for i, num in enumerate(nums):\n",
    "        d[num].append(i)\n",
    "    \n",
    "    k_nums = [num for num in d.keys() if len(d[num]) >= k]\n",
    "    if not k_nums:\n",
    "        return 0\n",
    "    \n",
    "    n = len(nums)\n",
    "    dp = [[False] * n for _ in range(n)]\n",
    "    \n",
    "    for k_num in k_nums:\n",
    "        ids = d[k_num]\n",
    "        \n",
    "        for i in range(len(ids)-k+1):\n",
    "            a, b = ids[i], ids[i + k -1]\n",
    "            dp[a][b] = True \n",
    "            # print(a, b)\n",
    "            for x in range(a+1):\n",
    "                for y in range(b, n):\n",
    "                    dp[x][y] = True \n",
    "                 \n",
    "    return sum(x for i in range(n) for x in dp[i])"
   ]
  },
  {
   "attachments": {},
   "cell_type": "markdown",
   "metadata": {},
   "source": [
    "### 包含字母的最小字符串"
   ]
  },
  {
   "cell_type": "code",
   "execution_count": 8,
   "metadata": {},
   "outputs": [],
   "source": [
    "\n",
    "def minimumString(s, t):\n",
    "    T = Counter(t)\n",
    "    S = defaultdict(int)\n",
    "    \n",
    "    def check(S, T):\n",
    "        for k in T:\n",
    "            if S[k] < T[k]:\n",
    "                return False \n",
    "        return True \n",
    "    \n",
    "    l = r = 0\n",
    "    n = len(s)\n",
    "    min_len = float(\"inf\")\n",
    "    min_s = \"\"\n",
    "    \n",
    "    while r < n:\n",
    "        w = s[r]\n",
    "        S[w] += 1\n",
    "        while check(S, T):\n",
    "            if r - l + 1 < min_len:\n",
    "                min_len = r - l + 1\n",
    "                min_s = s[l:r+1]\n",
    "            S[s[l]] -= 1\n",
    "            l += 1\n",
    "        r += 1\n",
    "    \n",
    "    if min_len == float(\"inf\"):\n",
    "        return -1\n",
    "    return min_s\n",
    "    \n",
    "    \n",
    "    "
   ]
  },
  {
   "cell_type": "code",
   "execution_count": 25,
   "metadata": {},
   "outputs": [],
   "source": [
    "from collections import *\n",
    "def minimumString(s, t):\n",
    "    T = Counter(t)\n",
    "    S = Counter()\n",
    "    n = len(s)\n",
    "    l = r = 0\n",
    "    \n",
    "    def check(S):\n",
    "        for k in T:\n",
    "            if S[k] < T[k]:\n",
    "                return False \n",
    "        return True \n",
    "    \n",
    "    min_len = float(\"inf\")\n",
    "    min_s = \"\"\n",
    "    \n",
    "    if t == \"\":\n",
    "        return \"\"\n",
    "    \n",
    "    while r < n:\n",
    "        S[s[r]] += 1\n",
    "        while check(S):\n",
    "            if r - l < min_len:\n",
    "                min_len = r - l \n",
    "                min_s = s[l:r]\n",
    "            S[s[l]] -= 1\n",
    "            l += 1\n",
    "        r += 1\n",
    "    \n",
    "    return min_s"
   ]
  },
  {
   "cell_type": "code",
   "execution_count": 26,
   "metadata": {},
   "outputs": [
    {
     "data": {
      "text/plain": [
       "'aksfaj'"
      ]
     },
     "execution_count": 26,
     "metadata": {},
     "output_type": "execute_result"
    }
   ],
   "source": [
    "s = 'ahffaksfajeeubsne' \n",
    "t = 'jefaa'\n",
    "minimumString(s, t)"
   ]
  },
  {
   "attachments": {},
   "cell_type": "markdown",
   "metadata": {},
   "source": [
    "## 如何确保双指针字典问题不出错？\n",
    "1. 初始条件单独考虑\n",
    "2. 初始化 l = r = 0; n = len(s)\n",
    "3. 写while循环时先写r += 1; l += 1\n",
    "4. 先考虑右指针移动的条件和过程\n",
    "5. 再考虑如何获得满足条件的答案\n",
    "6. 不管是否是最小值，都需要移动左指针"
   ]
  },
  {
   "cell_type": "code",
   "execution_count": 11,
   "metadata": {},
   "outputs": [
    {
     "name": "stdout",
     "output_type": "stream",
     "text": [
      "[True, False, False, False, False, False, False, False, False]\n",
      "[False, True, False, False, False, False, False, False, False]\n",
      "[False, False, False, False, False, False, False, False, False]\n",
      "[False, False, False, False, False, False, False, False, False]\n",
      "[False, False, False, False, False, False, False, False, False]\n",
      "[False, False, False, False, False, False, False, False, False]\n",
      "[False, False, False, False, False, False, False, False, False]\n",
      "[False, False, False, False, False, False, False, False, False]\n",
      "[False, False, False, False, False, False, False, False, False]\n",
      "[False, False, False, False, False, False, False, False, False]\n",
      "[False, False, False, False, False, False, False, False, False]\n",
      "\n",
      "5 3\n",
      "8 4\n",
      "[True, False, False, False, False, False, False, False, False]\n",
      "[False, True, False, False, False, False, False, False, False]\n",
      "[False, False, False, False, False, False, False, False, False]\n",
      "[False, False, False, False, False, False, False, False, False]\n",
      "[False, False, True, False, False, False, False, False, False]\n",
      "[False, False, False, False, False, False, False, False, False]\n",
      "[False, False, False, False, False, False, False, False, False]\n",
      "[False, False, False, True, False, False, False, False, False]\n",
      "[False, False, False, False, True, False, False, False, False]\n",
      "[False, False, False, False, False, False, False, False, False]\n",
      "[False, False, False, False, False, False, False, False, False]\n",
      "\n",
      "11 9\n"
     ]
    },
    {
     "data": {
      "text/plain": [
       "True"
      ]
     },
     "execution_count": 11,
     "metadata": {},
     "output_type": "execute_result"
    }
   ],
   "source": [
    "strParam = \"$**+*{2} 9mmmrrrkbb\"\n",
    "# strParam = \"*{2} aa\"\n",
    "# strParam = \"$**+ 9mmmrrrk\"\n",
    "# strParam = \"3$*{1}$* 3823444\"\n",
    "# strParam = \"3$*{1}$ 3821\"\n",
    "def match(strParam):\n",
    "    p, s = strParam.split()\n",
    "\n",
    "    n = len(s)\n",
    "    m = len(p)\n",
    "    dp = [[False] * (m+1) for _ in range(n+1)]\n",
    "    dp[0][0] = True \n",
    "\n",
    "    def check(x, y):\n",
    "        if x == y:\n",
    "            return True \n",
    "        if x.isdigit() and y == '$':\n",
    "            return True \n",
    "        if x.isalpha() and y == '+':\n",
    "            return True \n",
    "        return False\n",
    "\n",
    "    i = j = 1\n",
    "    while i < n + 1:\n",
    "        # while j < m + 1:\n",
    "        # print(s[i-1], p[j-1], check(s[i-1], p[j-1]))\n",
    "        if check(s[i-1], p[j-1]):\n",
    "            dp[i][j] = dp[i-1][j-1]\n",
    "            \n",
    "        elif p[j-1] == '*':\n",
    "            cnt = 3\n",
    "            cond = False\n",
    "            x = j\n",
    "            if j < m and p[x] == '{':\n",
    "                cond = True\n",
    "                cnt = 0\n",
    "                x += 1\n",
    "                while p[x] != '}':\n",
    "                    cnt = cnt * 10 + int(p[x]) \n",
    "                    x += 1\n",
    "                x += 1\n",
    "            \n",
    "            if s[i-1:i+cnt-1] != s[i-1] * cnt:\n",
    "                return False \n",
    "            \n",
    "            dp[i + cnt - 1][x] = dp[i-1][j-1]\n",
    "            j = x + 1\n",
    "            i += cnt\n",
    "            print(i, j)\n",
    "            continue\n",
    "        \n",
    "        j += 1\n",
    "        i += 1 \n",
    "\n",
    "        for q in dp:\n",
    "            print(q)\n",
    "        print()\n",
    "    return (dp[-1][-1])\n",
    "\n",
    "match(strParam)"
   ]
  },
  {
   "cell_type": "code",
   "execution_count": 17,
   "metadata": {},
   "outputs": [],
   "source": [
    "def num233(num):\n",
    "    if num % 233 != 0:\n",
    "        return -1\n",
    "    if num < 0:\n",
    "        return -1\n",
    "    # return sum(int(x) for x in str(num // 233))\n",
    "    s = num // 233\n",
    "    cnt = 0\n",
    "    while s > 0:\n",
    "        cnt += s % 10\n",
    "        s = s // 10\n",
    "    return cnt "
   ]
  },
  {
   "cell_type": "code",
   "execution_count": 15,
   "metadata": {},
   "outputs": [
    {
     "data": {
      "text/plain": [
       "0"
      ]
     },
     "execution_count": 15,
     "metadata": {},
     "output_type": "execute_result"
    }
   ],
   "source": [
    "num233(0)"
   ]
  },
  {
   "cell_type": "code",
   "execution_count": 16,
   "metadata": {},
   "outputs": [
    {
     "data": {
      "text/plain": [
       "2"
      ]
     },
     "execution_count": 16,
     "metadata": {},
     "output_type": "execute_result"
    }
   ],
   "source": [
    "num233(2563)"
   ]
  },
  {
   "cell_type": "code",
   "execution_count": 39,
   "metadata": {},
   "outputs": [
    {
     "name": "stdout",
     "output_type": "stream",
     "text": [
      "True\n",
      "True\n",
      "True\n",
      "True\n",
      "True\n",
      "False\n"
     ]
    }
   ],
   "source": [
    "strParam = \"$**+*{2} 9mmmrrrkbb\"\n",
    "# strParam = \"*{2} aa\"\n",
    "# strParam = \"$**+ 9mmmrrrk\"\n",
    "# strParam = \"3$*{1}$* 3823444\"\n",
    "# strParam = \"3$*{1}$ 3821\"\n",
    "def match(strParam):\n",
    "    p, s = strParam.split()\n",
    "\n",
    "    n = len(s)\n",
    "    m = len(p)\n",
    "    i = 0\n",
    "    j = 0\n",
    "    while j < m:\n",
    "        if i >= n:\n",
    "            return False\n",
    "        \n",
    "        if p[j] == '$':\n",
    "            if not s[i].isdigit():\n",
    "                return False \n",
    "            i += 1\n",
    "            j += 1\n",
    "        elif p[j] == '+':\n",
    "            if not s[i].isalpha():\n",
    "                return False \n",
    "            i += 1\n",
    "            j += 1\n",
    "        elif p[j].isdigit() or p[j].isalpha():\n",
    "            if p[j] != s[i]:\n",
    "                return False \n",
    "            i += 1\n",
    "            j += 1\n",
    "        elif p[j] == '*':\n",
    "            if j + 1 < m and p[j+1]=='{':\n",
    "                x = j + 2\n",
    "                num_str = \"\"\n",
    "                while x < m and p[x] != '}':\n",
    "                    num_str += p[x]\n",
    "                    x += 1\n",
    "                cnt = int(num_str)\n",
    "                if s[i:i+cnt] != s[i] * cnt:\n",
    "                    return False \n",
    "                i += cnt \n",
    "                j = x + 1\n",
    "                \n",
    "            else:\n",
    "                cnt = 3\n",
    "                # print(i)\n",
    "                # print(s[i:i+cnt])\n",
    "                if s[i:i+cnt] != s[i] * cnt:\n",
    "                    return False \n",
    "                i = i + cnt \n",
    "                j = j + 1\n",
    "        else:\n",
    "            break\n",
    "                \n",
    "    return i == n\n",
    "\n",
    "ls = [\n",
    "    \"$**+*{2} 9mmmrrrkbb\"\n",
    "    ,\"*{2} aa\"\n",
    "    ,\"$**+ 9mmmrrrk\"\n",
    "    ,\"3$*{1}$* 3823444\"\n",
    "    ,\"3$*{1}$ 3821\"\n",
    "    ,\"3$*{1}$* 3823424\"\n",
    "]\n",
    "for strParam in ls:\n",
    "    print(match(strParam))"
   ]
  },
  {
   "cell_type": "code",
   "execution_count": null,
   "metadata": {},
   "outputs": [],
   "source": []
  }
 ],
 "metadata": {
  "kernelspec": {
   "display_name": "base",
   "language": "python",
   "name": "python3"
  },
  "language_info": {
   "codemirror_mode": {
    "name": "ipython",
    "version": 3
   },
   "file_extension": ".py",
   "mimetype": "text/x-python",
   "name": "python",
   "nbconvert_exporter": "python",
   "pygments_lexer": "ipython3",
   "version": "3.9.12"
  },
  "orig_nbformat": 4,
  "vscode": {
   "interpreter": {
    "hash": "841e27f2a14d44ccd92f4291012cb59f687474acc5b2dafa531afbd4ea5b7136"
   }
  }
 },
 "nbformat": 4,
 "nbformat_minor": 2
}
